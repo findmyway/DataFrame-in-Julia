{
 "cells": [
  {
   "cell_type": "markdown",
   "metadata": {},
   "source": [
    "## One Line Solution\n",
    "\n",
    "Now we have learned some basic concepts of DataFrame. You may wondering whether we can simplify the code furthermore. In the **Split-Apply-Combine** chapter, we solve the problem, *What's the most common complaint type?*, with the following code:"
   ]
  },
  {
   "cell_type": "code",
   "execution_count": 3,
   "metadata": {},
   "outputs": [
    {
     "data": {
      "text/html": [
       "<table class=\"data-frame\"><thead><tr><th></th><th>Complaint_Type</th><th>x1</th></tr></thead><tbody><tr><th>1</th><td>HEATING</td><td>14200</td></tr><tr><th>2</th><td>GENERAL CONSTRUCTION</td><td>7471</td></tr><tr><th>3</th><td>Street Light Condition</td><td>7117</td></tr><tr><th>4</th><td>DOF Literature Request</td><td>5797</td></tr><tr><th>5</th><td>PLUMBING</td><td>5373</td></tr><tr><th>6</th><td>PAINT - PLASTER</td><td>5149</td></tr><tr><th>7</th><td>Blocked Driveway</td><td>4590</td></tr><tr><th>8</th><td>NONCONST</td><td>3998</td></tr><tr><th>9</th><td>Street Condition</td><td>3473</td></tr><tr><th>10</th><td>Illegal Parking</td><td>3343</td></tr></tbody></table>"
      ],
      "text/plain": [
       "10×2 DataFrames.DataFrame\n",
       "│ Row │ Complaint_Type           │ x1    │\n",
       "├─────┼──────────────────────────┼───────┤\n",
       "│ 1   │ \"HEATING\"                │ 14200 │\n",
       "│ 2   │ \"GENERAL CONSTRUCTION\"   │ 7471  │\n",
       "│ 3   │ \"Street Light Condition\" │ 7117  │\n",
       "│ 4   │ \"DOF Literature Request\" │ 5797  │\n",
       "│ 5   │ \"PLUMBING\"               │ 5373  │\n",
       "│ 6   │ \"PAINT - PLASTER\"        │ 5149  │\n",
       "│ 7   │ \"Blocked Driveway\"       │ 4590  │\n",
       "│ 8   │ \"NONCONST\"               │ 3998  │\n",
       "│ 9   │ \"Street Condition\"       │ 3473  │\n",
       "│ 10  │ \"Illegal Parking\"        │ 3343  │"
      ]
     },
     "execution_count": 3,
     "metadata": {},
     "output_type": "execute_result"
    }
   ],
   "source": [
    "using DataFrames\n",
    "complaints = readtable(\"./data/311-service-requests.csv\")\n",
    "complaints_by_type = by(complaints, :Complaint_Type, nrow)\n",
    "sort!(complaints_by_type, cols=:x1, rev=true)\n",
    "complaints_by_type[1:10, :]"
   ]
  },
  {
   "cell_type": "markdown",
   "metadata": {},
   "source": [
    "It's very verbose here. We can use the `|>` operator to chain them together:"
   ]
  },
  {
   "cell_type": "code",
   "execution_count": 11,
   "metadata": {},
   "outputs": [
    {
     "data": {
      "text/html": [
       "<table class=\"data-frame\"><thead><tr><th></th><th>Complaint_Type</th><th>x1</th></tr></thead><tbody><tr><th>1</th><td>HEATING</td><td>14200</td></tr><tr><th>2</th><td>GENERAL CONSTRUCTION</td><td>7471</td></tr><tr><th>3</th><td>Street Light Condition</td><td>7117</td></tr><tr><th>4</th><td>DOF Literature Request</td><td>5797</td></tr><tr><th>5</th><td>PLUMBING</td><td>5373</td></tr><tr><th>6</th><td>PAINT - PLASTER</td><td>5149</td></tr><tr><th>7</th><td>Blocked Driveway</td><td>4590</td></tr><tr><th>8</th><td>NONCONST</td><td>3998</td></tr><tr><th>9</th><td>Street Condition</td><td>3473</td></tr><tr><th>10</th><td>Illegal Parking</td><td>3343</td></tr></tbody></table>"
      ],
      "text/plain": [
       "10×2 DataFrames.DataFrame\n",
       "│ Row │ Complaint_Type           │ x1    │\n",
       "├─────┼──────────────────────────┼───────┤\n",
       "│ 1   │ \"HEATING\"                │ 14200 │\n",
       "│ 2   │ \"GENERAL CONSTRUCTION\"   │ 7471  │\n",
       "│ 3   │ \"Street Light Condition\" │ 7117  │\n",
       "│ 4   │ \"DOF Literature Request\" │ 5797  │\n",
       "│ 5   │ \"PLUMBING\"               │ 5373  │\n",
       "│ 6   │ \"PAINT - PLASTER\"        │ 5149  │\n",
       "│ 7   │ \"Blocked Driveway\"       │ 4590  │\n",
       "│ 8   │ \"NONCONST\"               │ 3998  │\n",
       "│ 9   │ \"Street Condition\"       │ 3473  │\n",
       "│ 10  │ \"Illegal Parking\"        │ 3343  │"
      ]
     },
     "execution_count": 11,
     "metadata": {},
     "output_type": "execute_result"
    }
   ],
   "source": [
    "readtable(\"./data/311-service-requests.csv\") |> \n",
    "    x -> by(x, :Complaint_Type, nrow) |>\n",
    "    x -> sort(x, cols=:x1, rev=true) |> \n",
    "    x -> x[1:10, :]"
   ]
  },
  {
   "cell_type": "markdown",
   "metadata": {},
   "source": [
    "Although it is better now, the lambda functions are very annoying. I really miss the `->` macro in Clojure. Thankfully, there's a library named [lazy](https://github.com/MikeInnes/Lazy.jl), which provides many userful macros. The `@>`macro is very similar to `->` in Clojure."
   ]
  },
  {
   "cell_type": "code",
   "execution_count": 27,
   "metadata": {},
   "outputs": [
    {
     "data": {
      "text/html": [
       "<table class=\"data-frame\"><thead><tr><th></th><th>Complaint_Type</th><th>x1</th></tr></thead><tbody><tr><th>1</th><td>HEATING</td><td>14200</td></tr><tr><th>2</th><td>GENERAL CONSTRUCTION</td><td>7471</td></tr><tr><th>3</th><td>Street Light Condition</td><td>7117</td></tr><tr><th>4</th><td>DOF Literature Request</td><td>5797</td></tr><tr><th>5</th><td>PLUMBING</td><td>5373</td></tr><tr><th>6</th><td>PAINT - PLASTER</td><td>5149</td></tr><tr><th>7</th><td>Blocked Driveway</td><td>4590</td></tr><tr><th>8</th><td>NONCONST</td><td>3998</td></tr><tr><th>9</th><td>Street Condition</td><td>3473</td></tr><tr><th>10</th><td>Illegal Parking</td><td>3343</td></tr></tbody></table>"
      ],
      "text/plain": [
       "10×2 DataFrames.SubDataFrame{Array{Int64,1}}\n",
       "│ Row │ Complaint_Type           │ x1    │\n",
       "├─────┼──────────────────────────┼───────┤\n",
       "│ 1   │ \"HEATING\"                │ 14200 │\n",
       "│ 2   │ \"GENERAL CONSTRUCTION\"   │ 7471  │\n",
       "│ 3   │ \"Street Light Condition\" │ 7117  │\n",
       "│ 4   │ \"DOF Literature Request\" │ 5797  │\n",
       "│ 5   │ \"PLUMBING\"               │ 5373  │\n",
       "│ 6   │ \"PAINT - PLASTER\"        │ 5149  │\n",
       "│ 7   │ \"Blocked Driveway\"       │ 4590  │\n",
       "│ 8   │ \"NONCONST\"               │ 3998  │\n",
       "│ 9   │ \"Street Condition\"       │ 3473  │\n",
       "│ 10  │ \"Illegal Parking\"        │ 3343  │"
      ]
     },
     "execution_count": 27,
     "metadata": {},
     "output_type": "execute_result"
    }
   ],
   "source": [
    "using Lazy\n",
    "\n",
    "@> readtable(\"./data/311-service-requests.csv\") begin\n",
    "    by(:Complaint_Type, nrow)\n",
    "    sort(cols=:x1, rev=true)\n",
    "    view(1:10)\n",
    "end"
   ]
  },
  {
   "cell_type": "markdown",
   "metadata": {},
   "source": [
    "Much better now! \n",
    "\n",
    "Since the *select-split-combine* operations are so common in daily programming, we can use the LINQ style macros provided by the [Query](http://www.david-anthoff.com/Query.jl/stable/index.html) library."
   ]
  },
  {
   "cell_type": "code",
   "execution_count": 29,
   "metadata": {},
   "outputs": [],
   "source": [
    "using Query"
   ]
  },
  {
   "cell_type": "code",
   "execution_count": 64,
   "metadata": {
    "scrolled": true
   },
   "outputs": [
    {
     "data": {
      "text/html": [
       "<table class=\"data-frame\"><thead><tr><th></th><th>Complaint_Type</th><th>Count</th></tr></thead><tbody><tr><th>1</th><td>HEATING</td><td>14200</td></tr><tr><th>2</th><td>GENERAL CONSTRUCTION</td><td>7471</td></tr><tr><th>3</th><td>Street Light Condition</td><td>7117</td></tr><tr><th>4</th><td>DOF Literature Request</td><td>5797</td></tr><tr><th>5</th><td>PLUMBING</td><td>5373</td></tr><tr><th>6</th><td>PAINT - PLASTER</td><td>5149</td></tr><tr><th>7</th><td>Blocked Driveway</td><td>4590</td></tr><tr><th>8</th><td>NONCONST</td><td>3998</td></tr><tr><th>9</th><td>Street Condition</td><td>3473</td></tr><tr><th>10</th><td>Illegal Parking</td><td>3343</td></tr></tbody></table>"
      ],
      "text/plain": [
       "10×2 DataFrames.DataFrame\n",
       "│ Row │ Complaint_Type           │ Count │\n",
       "├─────┼──────────────────────────┼───────┤\n",
       "│ 1   │ \"HEATING\"                │ 14200 │\n",
       "│ 2   │ \"GENERAL CONSTRUCTION\"   │ 7471  │\n",
       "│ 3   │ \"Street Light Condition\" │ 7117  │\n",
       "│ 4   │ \"DOF Literature Request\" │ 5797  │\n",
       "│ 5   │ \"PLUMBING\"               │ 5373  │\n",
       "│ 6   │ \"PAINT - PLASTER\"        │ 5149  │\n",
       "│ 7   │ \"Blocked Driveway\"       │ 4590  │\n",
       "│ 8   │ \"NONCONST\"               │ 3998  │\n",
       "│ 9   │ \"Street Condition\"       │ 3473  │\n",
       "│ 10  │ \"Illegal Parking\"        │ 3343  │"
      ]
     },
     "execution_count": 64,
     "metadata": {},
     "output_type": "execute_result"
    }
   ],
   "source": [
    "res = readtable(\"./data/311-service-requests.csv\") |>\n",
    "    @query(i, begin\n",
    "        @group i by i.Complaint_Type into g\n",
    "        @select {Complaint_Type=g.key, Count=length(g)}\n",
    "        end) |>\n",
    "    @query(j, begin\n",
    "        @orderby descending(j.Count)\n",
    "        @select j\n",
    "        @collect DataFrame\n",
    "        end)\n",
    "\n",
    "res[1:10, :]"
   ]
  },
  {
   "cell_type": "markdown",
   "metadata": {},
   "source": [
    "Ah, looks more complicate now... Maybe the syntax can be simplified later. You can explore some [Experimental Features](http://www.david-anthoff.com/Query.jl/stable/experimental.html) for how to make it more consise.\n",
    "\n",
    "Personaly, I like the more functional style~"
   ]
  }
 ],
 "metadata": {
  "kernelspec": {
   "display_name": "Julia 0.6.0",
   "language": "julia",
   "name": "julia-0.6"
  },
  "language_info": {
   "file_extension": ".jl",
   "mimetype": "application/julia",
   "name": "julia",
   "version": "0.6.0"
  }
 },
 "nbformat": 4,
 "nbformat_minor": 2
}
