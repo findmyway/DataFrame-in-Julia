{
 "cells": [
  {
   "cell_type": "markdown",
   "metadata": {},
   "source": [
    "# Reading from a CSV\n",
    "\n",
    "Here we use a subset of 311 service requests from [NYC Open Data](https://nycopendata.socrata.com/Social-Services/311-Service-Requests-from-2010-to-Present/erm2-nwe9). \n",
    "\n",
    "You can also play with many common datasets after install [RDatasets](https://github.com/johnmyleswhite/RDatasets.jl)."
   ]
  },
  {
   "cell_type": "code",
   "execution_count": 1,
   "metadata": {},
   "outputs": [
    {
     "data": {
      "text/plain": [
       "DataFrames.DataFrame"
      ]
     },
     "execution_count": 1,
     "metadata": {},
     "output_type": "execute_result"
    }
   ],
   "source": [
    "using DataFrames\n",
    "complaints = readtable(\"./data/311-service-requests.csv\")\n",
    "typeof(complaints)"
   ]
  },
  {
   "cell_type": "markdown",
   "metadata": {},
   "source": [
    "`readtable` has multiple implementations:"
   ]
  },
  {
   "cell_type": "code",
   "execution_count": 2,
   "metadata": {},
   "outputs": [
    {
     "data": {
      "text/html": [
       "3 methods for generic function <b>readtable</b>:<ul><li> readtable(io::<b>IO</b>) at <a href=\"https://github.com/JuliaStats/DataFrames.jl/tree/7f3138923abc093f195f8803d167390dbc02d762/liaPro-0.6.0.1/JuliaPro/pkgs-0.6.0.1/v0.6/DataFrames/src/dataframe/io.jl#L820\" target=\"_blank\">/////////////////////////////////////////////////////home/tj/juliapro/JuliaPro-0.6.0.1/JuliaPro/pkgs-0.6.0.1/v0.6/DataFrames/src/dataframe/io.jl:820</a></li> <li> readtable(io::<b>IO</b>, nbytes::<b>Integer</b>; <i>header, separator, quotemark, decimal, nastrings, truestrings, falsestrings, makefactors, nrows, names, eltypes, allowcomments, commentmark, ignorepadding, skipstart, skiprows, skipblanks, encoding, allowescapes, normalizenames</i>) at <a href=\"https://github.com/JuliaStats/DataFrames.jl/tree/7f3138923abc093f195f8803d167390dbc02d762/liaPro-0.6.0.1/JuliaPro/pkgs-0.6.0.1/v0.6/DataFrames/src/dataframe/io.jl#L820\" target=\"_blank\">/////////////////////////////////////////////////////home/tj/juliapro/JuliaPro-0.6.0.1/JuliaPro/pkgs-0.6.0.1/v0.6/DataFrames/src/dataframe/io.jl:820</a></li> <li> readtable(pathname::<b>AbstractString</b>; <i>header, separator, quotemark, decimal, nastrings, truestrings, falsestrings, makefactors, nrows, names, eltypes, allowcomments, commentmark, ignorepadding, skipstart, skiprows, skipblanks, encoding, allowescapes, normalizenames</i>) at <a href=\"https://github.com/JuliaStats/DataFrames.jl/tree/7f3138923abc093f195f8803d167390dbc02d762/liaPro-0.6.0.1/JuliaPro/pkgs-0.6.0.1/v0.6/DataFrames/src/dataframe/io.jl#L930\" target=\"_blank\">/////////////////////////////////////////////////////home/tj/juliapro/JuliaPro-0.6.0.1/JuliaPro/pkgs-0.6.0.1/v0.6/DataFrames/src/dataframe/io.jl:930</a></li> </ul>"
      ],
      "text/plain": [
       "# 3 methods for generic function \"readtable\":\n",
       "readtable(io::IO) in DataFrames at /////////////////////////////////////////////////////home/tj/juliapro/JuliaPro-0.6.0.1/JuliaPro/pkgs-0.6.0.1/v0.6/DataFrames/src/dataframe/io.jl:820\n",
       "readtable(io::IO, nbytes::Integer; header, separator, quotemark, decimal, nastrings, truestrings, falsestrings, makefactors, nrows, names, eltypes, allowcomments, commentmark, ignorepadding, skipstart, skiprows, skipblanks, encoding, allowescapes, normalizenames) in DataFrames at /////////////////////////////////////////////////////home/tj/juliapro/JuliaPro-0.6.0.1/JuliaPro/pkgs-0.6.0.1/v0.6/DataFrames/src/dataframe/io.jl:820\n",
       "readtable(pathname::AbstractString; header, separator, quotemark, decimal, nastrings, truestrings, falsestrings, makefactors, nrows, names, eltypes, allowcomments, commentmark, ignorepadding, skipstart, skiprows, skipblanks, encoding, allowescapes, normalizenames) in DataFrames at /////////////////////////////////////////////////////home/tj/juliapro/JuliaPro-0.6.0.1/JuliaPro/pkgs-0.6.0.1/v0.6/DataFrames/src/dataframe/io.jl:930"
      ]
     },
     "execution_count": 2,
     "metadata": {},
     "output_type": "execute_result"
    }
   ],
   "source": [
    "methods(readtable)"
   ]
  },
  {
   "cell_type": "markdown",
   "metadata": {},
   "source": [
    "## Basic information of a DataFrame"
   ]
  },
  {
   "cell_type": "markdown",
   "metadata": {},
   "source": [
    "After reading a dataframe, usually we would like to know:\n",
    "\n",
    "- The size\n",
    "- Column names\n",
    "- Is there any null value?\n",
    "- Are there dumplicate rows?\n",
    "- See some examples"
   ]
  },
  {
   "cell_type": "code",
   "execution_count": 3,
   "metadata": {},
   "outputs": [
    {
     "data": {
      "text/plain": [
       "((111069, 52), (111069, 52), Symbol[:Unique_Key, :Created_Date, :Closed_Date, :Agency, :Agency_Name, :Complaint_Type, :Descriptor, :Location_Type, :Incident_Zip, :Incident_Address  …  :Bridge_Highway_Name, :Bridge_Highway_Direction, :Road_Ramp, :Bridge_Highway_Segment, :Garage_Lot_Name, :Ferry_Direction, :Ferry_Terminal_Name, :Latitude, :Longitude, :Location])"
      ]
     },
     "execution_count": 3,
     "metadata": {},
     "output_type": "execute_result"
    }
   ],
   "source": [
    "size(complaints), size(unique(complaints)), names(complaints)"
   ]
  },
  {
   "cell_type": "code",
   "execution_count": 4,
   "metadata": {},
   "outputs": [
    {
     "data": {
      "text/html": [
       "<table class=\"data-frame\"><thead><tr><th></th><th>Unique_Key</th><th>Created_Date</th><th>Closed_Date</th><th>Agency</th><th>Agency_Name</th><th>Complaint_Type</th><th>Descriptor</th><th>Location_Type</th><th>Incident_Zip</th><th>Incident_Address</th><th>Street_Name</th><th>Cross_Street_1</th><th>Cross_Street_2</th><th>Intersection_Street_1</th><th>Intersection_Street_2</th><th>Address_Type</th><th>City</th><th>Landmark</th><th>Facility_Type</th><th>Status</th><th>Due_Date</th><th>Resolution_Action_Updated_Date</th><th>Community_Board</th><th>Borough</th><th>X_Coordinate_State_Plane_</th><th>Y_Coordinate_State_Plane_</th><th>Park_Facility_Name</th><th>Park_Borough</th><th>School_Name</th><th>School_Number</th><th>School_Region</th><th>School_Code</th><th>School_Phone_Number</th><th>School_Address</th><th>School_City</th><th>School_State</th><th>School_Zip</th><th>School_Not_Found</th><th>School_or_Citywide_Complaint</th><th>Vehicle_Type</th><th>Taxi_Company_Borough</th><th>Taxi_Pick_Up_Location</th><th>Bridge_Highway_Name</th><th>Bridge_Highway_Direction</th><th>Road_Ramp</th><th>Bridge_Highway_Segment</th><th>Garage_Lot_Name</th><th>Ferry_Direction</th><th>Ferry_Terminal_Name</th><th>Latitude</th><th>Longitude</th><th>Location</th></tr></thead><tbody><tr><th>1</th><td>26589651</td><td>10/31/2013 02:08:41 AM</td><td>NA</td><td>NYPD</td><td>New York City Police Department</td><td>Noise - Street/Sidewalk</td><td>Loud Talking</td><td>Street/Sidewalk</td><td>11432</td><td>90-03 169 STREET</td><td>169 STREET</td><td>90 AVENUE</td><td>91 AVENUE</td><td>NA</td><td>NA</td><td>ADDRESS</td><td>JAMAICA</td><td>NA</td><td>Precinct</td><td>Assigned</td><td>10/31/2013 10:08:41 AM</td><td>10/31/2013 02:35:17 AM</td><td>12 QUEENS</td><td>QUEENS</td><td>1042027</td><td>197389</td><td>Unspecified</td><td>QUEENS</td><td>Unspecified</td><td>Unspecified</td><td>Unspecified</td><td>Unspecified</td><td>Unspecified</td><td>Unspecified</td><td>Unspecified</td><td>Unspecified</td><td>Unspecified</td><td>N</td><td>NA</td><td>NA</td><td>NA</td><td>NA</td><td>NA</td><td>NA</td><td>NA</td><td>NA</td><td>NA</td><td>NA</td><td>NA</td><td>40.70827532593202</td><td>-73.79160395779721</td><td>(40.70827532593202, -73.79160395779721)</td></tr><tr><th>2</th><td>26593698</td><td>10/31/2013 02:01:04 AM</td><td>NA</td><td>NYPD</td><td>New York City Police Department</td><td>Illegal Parking</td><td>Commercial Overnight Parking</td><td>Street/Sidewalk</td><td>11378</td><td>58 AVENUE</td><td>58 AVENUE</td><td>58 PLACE</td><td>59 STREET</td><td>NA</td><td>NA</td><td>BLOCKFACE</td><td>MASPETH</td><td>NA</td><td>Precinct</td><td>Open</td><td>10/31/2013 10:01:04 AM</td><td>NA</td><td>05 QUEENS</td><td>QUEENS</td><td>1009349</td><td>201984</td><td>Unspecified</td><td>QUEENS</td><td>Unspecified</td><td>Unspecified</td><td>Unspecified</td><td>Unspecified</td><td>Unspecified</td><td>Unspecified</td><td>Unspecified</td><td>Unspecified</td><td>Unspecified</td><td>N</td><td>NA</td><td>NA</td><td>NA</td><td>NA</td><td>NA</td><td>NA</td><td>NA</td><td>NA</td><td>NA</td><td>NA</td><td>NA</td><td>40.721040535628305</td><td>-73.90945306791765</td><td>(40.721040535628305, -73.90945306791765)</td></tr><tr><th>3</th><td>26594139</td><td>10/31/2013 02:00:24 AM</td><td>10/31/2013 02:40:32 AM</td><td>NYPD</td><td>New York City Police Department</td><td>Noise - Commercial</td><td>Loud Music/Party</td><td>Club/Bar/Restaurant</td><td>10032</td><td>4060 BROADWAY</td><td>BROADWAY</td><td>WEST 171 STREET</td><td>WEST 172 STREET</td><td>NA</td><td>NA</td><td>ADDRESS</td><td>NEW YORK</td><td>NA</td><td>Precinct</td><td>Closed</td><td>10/31/2013 10:00:24 AM</td><td>10/31/2013 02:39:42 AM</td><td>12 MANHATTAN</td><td>MANHATTAN</td><td>1001088</td><td>246531</td><td>Unspecified</td><td>MANHATTAN</td><td>Unspecified</td><td>Unspecified</td><td>Unspecified</td><td>Unspecified</td><td>Unspecified</td><td>Unspecified</td><td>Unspecified</td><td>Unspecified</td><td>Unspecified</td><td>N</td><td>NA</td><td>NA</td><td>NA</td><td>NA</td><td>NA</td><td>NA</td><td>NA</td><td>NA</td><td>NA</td><td>NA</td><td>NA</td><td>40.84332975466513</td><td>-73.93914371913482</td><td>(40.84332975466513, -73.93914371913482)</td></tr><tr><th>4</th><td>26595721</td><td>10/31/2013 01:56:23 AM</td><td>10/31/2013 02:21:48 AM</td><td>NYPD</td><td>New York City Police Department</td><td>Noise - Vehicle</td><td>Car/Truck Horn</td><td>Street/Sidewalk</td><td>10023</td><td>WEST 72 STREET</td><td>WEST 72 STREET</td><td>COLUMBUS AVENUE</td><td>AMSTERDAM AVENUE</td><td>NA</td><td>NA</td><td>BLOCKFACE</td><td>NEW YORK</td><td>NA</td><td>Precinct</td><td>Closed</td><td>10/31/2013 09:56:23 AM</td><td>10/31/2013 02:21:10 AM</td><td>07 MANHATTAN</td><td>MANHATTAN</td><td>989730</td><td>222727</td><td>Unspecified</td><td>MANHATTAN</td><td>Unspecified</td><td>Unspecified</td><td>Unspecified</td><td>Unspecified</td><td>Unspecified</td><td>Unspecified</td><td>Unspecified</td><td>Unspecified</td><td>Unspecified</td><td>N</td><td>NA</td><td>NA</td><td>NA</td><td>NA</td><td>NA</td><td>NA</td><td>NA</td><td>NA</td><td>NA</td><td>NA</td><td>NA</td><td>40.7780087446372</td><td>-73.98021349023975</td><td>(40.7780087446372, -73.98021349023975)</td></tr><tr><th>5</th><td>26590930</td><td>10/31/2013 01:53:44 AM</td><td>NA</td><td>DOHMH</td><td>Department of Health and Mental Hygiene</td><td>Rodent</td><td>Condition Attracting Rodents</td><td>Vacant Lot</td><td>10027</td><td>WEST 124 STREET</td><td>WEST 124 STREET</td><td>LENOX AVENUE</td><td>ADAM CLAYTON POWELL JR BOULEVARD</td><td>NA</td><td>NA</td><td>BLOCKFACE</td><td>NEW YORK</td><td>NA</td><td>N/A</td><td>Pending</td><td>11/30/2013 01:53:44 AM</td><td>10/31/2013 01:59:54 AM</td><td>10 MANHATTAN</td><td>MANHATTAN</td><td>998815</td><td>233545</td><td>Unspecified</td><td>MANHATTAN</td><td>Unspecified</td><td>Unspecified</td><td>Unspecified</td><td>Unspecified</td><td>Unspecified</td><td>Unspecified</td><td>Unspecified</td><td>Unspecified</td><td>Unspecified</td><td>N</td><td>NA</td><td>NA</td><td>NA</td><td>NA</td><td>NA</td><td>NA</td><td>NA</td><td>NA</td><td>NA</td><td>NA</td><td>NA</td><td>40.80769092704951</td><td>-73.94738703491433</td><td>(40.80769092704951, -73.94738703491433)</td></tr><tr><th>6</th><td>26592370</td><td>10/31/2013 01:46:52 AM</td><td>NA</td><td>NYPD</td><td>New York City Police Department</td><td>Noise - Commercial</td><td>Banging/Pounding</td><td>Club/Bar/Restaurant</td><td>11372</td><td>37 AVENUE</td><td>37 AVENUE</td><td>84 STREET</td><td>85 STREET</td><td>NA</td><td>NA</td><td>BLOCKFACE</td><td>JACKSON HEIGHTS</td><td>NA</td><td>Precinct</td><td>Open</td><td>10/31/2013 09:46:52 AM</td><td>NA</td><td>03 QUEENS</td><td>QUEENS</td><td>1016948</td><td>212540</td><td>Unspecified</td><td>QUEENS</td><td>Unspecified</td><td>Unspecified</td><td>Unspecified</td><td>Unspecified</td><td>Unspecified</td><td>Unspecified</td><td>Unspecified</td><td>Unspecified</td><td>Unspecified</td><td>N</td><td>NA</td><td>NA</td><td>NA</td><td>NA</td><td>NA</td><td>NA</td><td>NA</td><td>NA</td><td>NA</td><td>NA</td><td>NA</td><td>40.7499893014072</td><td>-73.88198770727831</td><td>(40.7499893014072, -73.88198770727831)</td></tr></tbody></table>"
      ],
      "text/plain": [
       "6×52 DataFrames.DataFrame\n",
       "│ Row │ Unique_Key │ Created_Date             │ Closed_Date              │\n",
       "├─────┼────────────┼──────────────────────────┼──────────────────────────┤\n",
       "│ 1   │ 26589651   │ \"10/31/2013 02:08:41 AM\" │ NA                       │\n",
       "│ 2   │ 26593698   │ \"10/31/2013 02:01:04 AM\" │ NA                       │\n",
       "│ 3   │ 26594139   │ \"10/31/2013 02:00:24 AM\" │ \"10/31/2013 02:40:32 AM\" │\n",
       "│ 4   │ 26595721   │ \"10/31/2013 01:56:23 AM\" │ \"10/31/2013 02:21:48 AM\" │\n",
       "│ 5   │ 26590930   │ \"10/31/2013 01:53:44 AM\" │ NA                       │\n",
       "│ 6   │ 26592370   │ \"10/31/2013 01:46:52 AM\" │ NA                       │\n",
       "\n",
       "│ Row │ Agency  │ Agency_Name                               │\n",
       "├─────┼─────────┼───────────────────────────────────────────┤\n",
       "│ 1   │ \"NYPD\"  │ \"New York City Police Department\"         │\n",
       "│ 2   │ \"NYPD\"  │ \"New York City Police Department\"         │\n",
       "│ 3   │ \"NYPD\"  │ \"New York City Police Department\"         │\n",
       "│ 4   │ \"NYPD\"  │ \"New York City Police Department\"         │\n",
       "│ 5   │ \"DOHMH\" │ \"Department of Health and Mental Hygiene\" │\n",
       "│ 6   │ \"NYPD\"  │ \"New York City Police Department\"         │\n",
       "\n",
       "│ Row │ Complaint_Type            │ Descriptor                     │\n",
       "├─────┼───────────────────────────┼────────────────────────────────┤\n",
       "│ 1   │ \"Noise - Street/Sidewalk\" │ \"Loud Talking\"                 │\n",
       "│ 2   │ \"Illegal Parking\"         │ \"Commercial Overnight Parking\" │\n",
       "│ 3   │ \"Noise - Commercial\"      │ \"Loud Music/Party\"             │\n",
       "│ 4   │ \"Noise - Vehicle\"         │ \"Car/Truck Horn\"               │\n",
       "│ 5   │ \"Rodent\"                  │ \"Condition Attracting Rodents\" │\n",
       "│ 6   │ \"Noise - Commercial\"      │ \"Banging/Pounding\"             │\n",
       "\n",
       "│ Row │ Location_Type         │ Incident_Zip │ Incident_Address   │\n",
       "├─────┼───────────────────────┼──────────────┼────────────────────┤\n",
       "│ 1   │ \"Street/Sidewalk\"     │ \"11432\"      │ \"90-03 169 STREET\" │\n",
       "│ 2   │ \"Street/Sidewalk\"     │ \"11378\"      │ \"58 AVENUE\"        │\n",
       "│ 3   │ \"Club/Bar/Restaurant\" │ \"10032\"      │ \"4060 BROADWAY\"    │\n",
       "│ 4   │ \"Street/Sidewalk\"     │ \"10023\"      │ \"WEST 72 STREET\"   │\n",
       "│ 5   │ \"Vacant Lot\"          │ \"10027\"      │ \"WEST 124 STREET\"  │\n",
       "│ 6   │ \"Club/Bar/Restaurant\" │ \"11372\"      │ \"37 AVENUE\"        │\n",
       "\n",
       "│ Row │ Street_Name       │ Cross_Street_1    │\n",
       "├─────┼───────────────────┼───────────────────┤\n",
       "│ 1   │ \"169 STREET\"      │ \"90 AVENUE\"       │\n",
       "│ 2   │ \"58 AVENUE\"       │ \"58 PLACE\"        │\n",
       "│ 3   │ \"BROADWAY\"        │ \"WEST 171 STREET\" │\n",
       "│ 4   │ \"WEST 72 STREET\"  │ \"COLUMBUS AVENUE\" │\n",
       "│ 5   │ \"WEST 124 STREET\" │ \"LENOX AVENUE\"    │\n",
       "│ 6   │ \"37 AVENUE\"       │ \"84 STREET\"       │\n",
       "\n",
       "│ Row │ Cross_Street_2                     │ Intersection_Street_1 │\n",
       "├─────┼────────────────────────────────────┼───────────────────────┤\n",
       "│ 1   │ \"91 AVENUE\"                        │ NA                    │\n",
       "│ 2   │ \"59 STREET\"                        │ NA                    │\n",
       "│ 3   │ \"WEST 172 STREET\"                  │ NA                    │\n",
       "│ 4   │ \"AMSTERDAM AVENUE\"                 │ NA                    │\n",
       "│ 5   │ \"ADAM CLAYTON POWELL JR BOULEVARD\" │ NA                    │\n",
       "│ 6   │ \"85 STREET\"                        │ NA                    │\n",
       "\n",
       "│ Row │ Intersection_Street_2 │ Address_Type │ City              │ Landmark │\n",
       "├─────┼───────────────────────┼──────────────┼───────────────────┼──────────┤\n",
       "│ 1   │ NA                    │ \"ADDRESS\"    │ \"JAMAICA\"         │ NA       │\n",
       "│ 2   │ NA                    │ \"BLOCKFACE\"  │ \"MASPETH\"         │ NA       │\n",
       "│ 3   │ NA                    │ \"ADDRESS\"    │ \"NEW YORK\"        │ NA       │\n",
       "│ 4   │ NA                    │ \"BLOCKFACE\"  │ \"NEW YORK\"        │ NA       │\n",
       "│ 5   │ NA                    │ \"BLOCKFACE\"  │ \"NEW YORK\"        │ NA       │\n",
       "│ 6   │ NA                    │ \"BLOCKFACE\"  │ \"JACKSON HEIGHTS\" │ NA       │\n",
       "\n",
       "│ Row │ Facility_Type │ Status     │ Due_Date                 │\n",
       "├─────┼───────────────┼────────────┼──────────────────────────┤\n",
       "│ 1   │ \"Precinct\"    │ \"Assigned\" │ \"10/31/2013 10:08:41 AM\" │\n",
       "│ 2   │ \"Precinct\"    │ \"Open\"     │ \"10/31/2013 10:01:04 AM\" │\n",
       "│ 3   │ \"Precinct\"    │ \"Closed\"   │ \"10/31/2013 10:00:24 AM\" │\n",
       "│ 4   │ \"Precinct\"    │ \"Closed\"   │ \"10/31/2013 09:56:23 AM\" │\n",
       "│ 5   │ \"N/A\"         │ \"Pending\"  │ \"11/30/2013 01:53:44 AM\" │\n",
       "│ 6   │ \"Precinct\"    │ \"Open\"     │ \"10/31/2013 09:46:52 AM\" │\n",
       "\n",
       "│ Row │ Resolution_Action_Updated_Date │ Community_Board │ Borough     │\n",
       "├─────┼────────────────────────────────┼─────────────────┼─────────────┤\n",
       "│ 1   │ \"10/31/2013 02:35:17 AM\"       │ \"12 QUEENS\"     │ \"QUEENS\"    │\n",
       "│ 2   │ NA                             │ \"05 QUEENS\"     │ \"QUEENS\"    │\n",
       "│ 3   │ \"10/31/2013 02:39:42 AM\"       │ \"12 MANHATTAN\"  │ \"MANHATTAN\" │\n",
       "│ 4   │ \"10/31/2013 02:21:10 AM\"       │ \"07 MANHATTAN\"  │ \"MANHATTAN\" │\n",
       "│ 5   │ \"10/31/2013 01:59:54 AM\"       │ \"10 MANHATTAN\"  │ \"MANHATTAN\" │\n",
       "│ 6   │ NA                             │ \"03 QUEENS\"     │ \"QUEENS\"    │\n",
       "\n",
       "│ Row │ X_Coordinate_State_Plane_ │ Y_Coordinate_State_Plane_ │\n",
       "├─────┼───────────────────────────┼───────────────────────────┤\n",
       "│ 1   │ 1042027                   │ 197389                    │\n",
       "│ 2   │ 1009349                   │ 201984                    │\n",
       "│ 3   │ 1001088                   │ 246531                    │\n",
       "│ 4   │ 989730                    │ 222727                    │\n",
       "│ 5   │ 998815                    │ 233545                    │\n",
       "│ 6   │ 1016948                   │ 212540                    │\n",
       "\n",
       "│ Row │ Park_Facility_Name │ Park_Borough │ School_Name   │ School_Number │\n",
       "├─────┼────────────────────┼──────────────┼───────────────┼───────────────┤\n",
       "│ 1   │ \"Unspecified\"      │ \"QUEENS\"     │ \"Unspecified\" │ \"Unspecified\" │\n",
       "│ 2   │ \"Unspecified\"      │ \"QUEENS\"     │ \"Unspecified\" │ \"Unspecified\" │\n",
       "│ 3   │ \"Unspecified\"      │ \"MANHATTAN\"  │ \"Unspecified\" │ \"Unspecified\" │\n",
       "│ 4   │ \"Unspecified\"      │ \"MANHATTAN\"  │ \"Unspecified\" │ \"Unspecified\" │\n",
       "│ 5   │ \"Unspecified\"      │ \"MANHATTAN\"  │ \"Unspecified\" │ \"Unspecified\" │\n",
       "│ 6   │ \"Unspecified\"      │ \"QUEENS\"     │ \"Unspecified\" │ \"Unspecified\" │\n",
       "\n",
       "│ Row │ School_Region │ School_Code   │ School_Phone_Number │ School_Address │\n",
       "├─────┼───────────────┼───────────────┼─────────────────────┼────────────────┤\n",
       "│ 1   │ \"Unspecified\" │ \"Unspecified\" │ \"Unspecified\"       │ \"Unspecified\"  │\n",
       "│ 2   │ \"Unspecified\" │ \"Unspecified\" │ \"Unspecified\"       │ \"Unspecified\"  │\n",
       "│ 3   │ \"Unspecified\" │ \"Unspecified\" │ \"Unspecified\"       │ \"Unspecified\"  │\n",
       "│ 4   │ \"Unspecified\" │ \"Unspecified\" │ \"Unspecified\"       │ \"Unspecified\"  │\n",
       "│ 5   │ \"Unspecified\" │ \"Unspecified\" │ \"Unspecified\"       │ \"Unspecified\"  │\n",
       "│ 6   │ \"Unspecified\" │ \"Unspecified\" │ \"Unspecified\"       │ \"Unspecified\"  │\n",
       "\n",
       "│ Row │ School_City   │ School_State  │ School_Zip    │ School_Not_Found │\n",
       "├─────┼───────────────┼───────────────┼───────────────┼──────────────────┤\n",
       "│ 1   │ \"Unspecified\" │ \"Unspecified\" │ \"Unspecified\" │ \"N\"              │\n",
       "│ 2   │ \"Unspecified\" │ \"Unspecified\" │ \"Unspecified\" │ \"N\"              │\n",
       "│ 3   │ \"Unspecified\" │ \"Unspecified\" │ \"Unspecified\" │ \"N\"              │\n",
       "│ 4   │ \"Unspecified\" │ \"Unspecified\" │ \"Unspecified\" │ \"N\"              │\n",
       "│ 5   │ \"Unspecified\" │ \"Unspecified\" │ \"Unspecified\" │ \"N\"              │\n",
       "│ 6   │ \"Unspecified\" │ \"Unspecified\" │ \"Unspecified\" │ \"N\"              │\n",
       "\n",
       "│ Row │ School_or_Citywide_Complaint │ Vehicle_Type │ Taxi_Company_Borough │\n",
       "├─────┼──────────────────────────────┼──────────────┼──────────────────────┤\n",
       "│ 1   │ NA                           │ NA           │ NA                   │\n",
       "│ 2   │ NA                           │ NA           │ NA                   │\n",
       "│ 3   │ NA                           │ NA           │ NA                   │\n",
       "│ 4   │ NA                           │ NA           │ NA                   │\n",
       "│ 5   │ NA                           │ NA           │ NA                   │\n",
       "│ 6   │ NA                           │ NA           │ NA                   │\n",
       "\n",
       "│ Row │ Taxi_Pick_Up_Location │ Bridge_Highway_Name │ Bridge_Highway_Direction │\n",
       "├─────┼───────────────────────┼─────────────────────┼──────────────────────────┤\n",
       "│ 1   │ NA                    │ NA                  │ NA                       │\n",
       "│ 2   │ NA                    │ NA                  │ NA                       │\n",
       "│ 3   │ NA                    │ NA                  │ NA                       │\n",
       "│ 4   │ NA                    │ NA                  │ NA                       │\n",
       "│ 5   │ NA                    │ NA                  │ NA                       │\n",
       "│ 6   │ NA                    │ NA                  │ NA                       │\n",
       "\n",
       "│ Row │ Road_Ramp │ Bridge_Highway_Segment │ Garage_Lot_Name │ Ferry_Direction │\n",
       "├─────┼───────────┼────────────────────────┼─────────────────┼─────────────────┤\n",
       "│ 1   │ NA        │ NA                     │ NA              │ NA              │\n",
       "│ 2   │ NA        │ NA                     │ NA              │ NA              │\n",
       "│ 3   │ NA        │ NA                     │ NA              │ NA              │\n",
       "│ 4   │ NA        │ NA                     │ NA              │ NA              │\n",
       "│ 5   │ NA        │ NA                     │ NA              │ NA              │\n",
       "│ 6   │ NA        │ NA                     │ NA              │ NA              │\n",
       "\n",
       "│ Row │ Ferry_Terminal_Name │ Latitude │ Longitude │\n",
       "├─────┼─────────────────────┼──────────┼───────────┤\n",
       "│ 1   │ NA                  │ 40.7083  │ -73.7916  │\n",
       "│ 2   │ NA                  │ 40.721   │ -73.9095  │\n",
       "│ 3   │ NA                  │ 40.8433  │ -73.9391  │\n",
       "│ 4   │ NA                  │ 40.778   │ -73.9802  │\n",
       "│ 5   │ NA                  │ 40.8077  │ -73.9474  │\n",
       "│ 6   │ NA                  │ 40.75    │ -73.882   │\n",
       "\n",
       "│ Row │ Location                                   │\n",
       "├─────┼────────────────────────────────────────────┤\n",
       "│ 1   │ \"(40.70827532593202, -73.79160395779721)\"  │\n",
       "│ 2   │ \"(40.721040535628305, -73.90945306791765)\" │\n",
       "│ 3   │ \"(40.84332975466513, -73.93914371913482)\"  │\n",
       "│ 4   │ \"(40.7780087446372, -73.98021349023975)\"   │\n",
       "│ 5   │ \"(40.80769092704951, -73.94738703491433)\"  │\n",
       "│ 6   │ \"(40.7499893014072, -73.88198770727831)\"   │"
      ]
     },
     "execution_count": 4,
     "metadata": {},
     "output_type": "execute_result"
    }
   ],
   "source": [
    "head(complaints)"
   ]
  },
  {
   "cell_type": "markdown",
   "metadata": {},
   "source": [
    "## Selecting columns and rows\n",
    "\n",
    "Each column of a `DataFrame` is a `DataArray`(similar to `Series` type in Pandas). In order to access a specific column, you should use symbol but not string of the column name."
   ]
  },
  {
   "cell_type": "code",
   "execution_count": 5,
   "metadata": {},
   "outputs": [
    {
     "ename": "LoadError",
     "evalue": "\u001b[91mMethodError: no method matching getindex(::DataFrames.DataFrame, ::String)\u001b[39m",
     "output_type": "error",
     "traceback": [
      "\u001b[91mMethodError: no method matching getindex(::DataFrames.DataFrame, ::String)\u001b[39m",
      ""
     ]
    }
   ],
   "source": [
    "complaints[\"Agency\"]"
   ]
  },
  {
   "cell_type": "code",
   "execution_count": 6,
   "metadata": {},
   "outputs": [
    {
     "data": {
      "text/plain": [
       "DataArrays.DataArray{String,1}"
      ]
     },
     "execution_count": 6,
     "metadata": {},
     "output_type": "execute_result"
    }
   ],
   "source": [
    "col_Agency = complaints[:Agency]\n",
    "typeof(col_Agency)"
   ]
  },
  {
   "cell_type": "code",
   "execution_count": 7,
   "metadata": {},
   "outputs": [
    {
     "data": {
      "text/html": [
       "<table class=\"data-frame\"><thead><tr><th></th><th>Agency</th><th>Location_Type</th><th>Complaint_Type</th></tr></thead><tbody><tr><th>1</th><td>NYPD</td><td>Street/Sidewalk</td><td>Noise - Street/Sidewalk</td></tr><tr><th>2</th><td>NYPD</td><td>Street/Sidewalk</td><td>Illegal Parking</td></tr><tr><th>3</th><td>NYPD</td><td>Club/Bar/Restaurant</td><td>Noise - Commercial</td></tr><tr><th>4</th><td>NYPD</td><td>Street/Sidewalk</td><td>Noise - Vehicle</td></tr><tr><th>5</th><td>DOHMH</td><td>Vacant Lot</td><td>Rodent</td></tr><tr><th>6</th><td>NYPD</td><td>Club/Bar/Restaurant</td><td>Noise - Commercial</td></tr></tbody></table>"
      ],
      "text/plain": [
       "6×3 DataFrames.DataFrame\n",
       "│ Row │ Agency  │ Location_Type         │ Complaint_Type            │\n",
       "├─────┼─────────┼───────────────────────┼───────────────────────────┤\n",
       "│ 1   │ \"NYPD\"  │ \"Street/Sidewalk\"     │ \"Noise - Street/Sidewalk\" │\n",
       "│ 2   │ \"NYPD\"  │ \"Street/Sidewalk\"     │ \"Illegal Parking\"         │\n",
       "│ 3   │ \"NYPD\"  │ \"Club/Bar/Restaurant\" │ \"Noise - Commercial\"      │\n",
       "│ 4   │ \"NYPD\"  │ \"Street/Sidewalk\"     │ \"Noise - Vehicle\"         │\n",
       "│ 5   │ \"DOHMH\" │ \"Vacant Lot\"          │ \"Rodent\"                  │\n",
       "│ 6   │ \"NYPD\"  │ \"Club/Bar/Restaurant\" │ \"Noise - Commercial\"      │"
      ]
     },
     "execution_count": 7,
     "metadata": {},
     "output_type": "execute_result"
    }
   ],
   "source": [
    "selected_cols = complaints[[:Agency, :Location_Type, :Complaint_Type]]\n",
    "head(selected_cols)"
   ]
  },
  {
   "cell_type": "markdown",
   "metadata": {},
   "source": [
    "Sometimes you would like to select all the columns except some sepecific columns:"
   ]
  },
  {
   "cell_type": "code",
   "execution_count": 8,
   "metadata": {},
   "outputs": [
    {
     "data": {
      "text/html": [
       "<table class=\"data-frame\"><thead><tr><th></th><th>Created_Date</th><th>Closed_Date</th><th>Agency</th><th>Agency_Name</th><th>Complaint_Type</th><th>Location_Type</th><th>Incident_Zip</th><th>Incident_Address</th><th>Street_Name</th><th>Cross_Street_1</th><th>Cross_Street_2</th><th>Intersection_Street_1</th><th>Intersection_Street_2</th><th>Address_Type</th><th>City</th><th>Landmark</th><th>Facility_Type</th><th>Status</th><th>Due_Date</th><th>Resolution_Action_Updated_Date</th><th>Community_Board</th><th>Borough</th><th>X_Coordinate_State_Plane_</th><th>Y_Coordinate_State_Plane_</th><th>Park_Facility_Name</th><th>Park_Borough</th><th>School_Name</th><th>School_Number</th><th>School_Region</th><th>School_Code</th><th>School_Phone_Number</th><th>School_Address</th><th>School_City</th><th>School_State</th><th>School_Zip</th><th>School_Not_Found</th><th>School_or_Citywide_Complaint</th><th>Vehicle_Type</th><th>Taxi_Company_Borough</th><th>Taxi_Pick_Up_Location</th><th>Bridge_Highway_Name</th><th>Bridge_Highway_Direction</th><th>Road_Ramp</th><th>Bridge_Highway_Segment</th><th>Garage_Lot_Name</th><th>Ferry_Direction</th><th>Ferry_Terminal_Name</th><th>Latitude</th><th>Longitude</th><th>Location</th></tr></thead><tbody><tr><th>1</th><td>10/31/2013 02:08:41 AM</td><td>NA</td><td>NYPD</td><td>New York City Police Department</td><td>Noise - Street/Sidewalk</td><td>Street/Sidewalk</td><td>11432</td><td>90-03 169 STREET</td><td>169 STREET</td><td>90 AVENUE</td><td>91 AVENUE</td><td>NA</td><td>NA</td><td>ADDRESS</td><td>JAMAICA</td><td>NA</td><td>Precinct</td><td>Assigned</td><td>10/31/2013 10:08:41 AM</td><td>10/31/2013 02:35:17 AM</td><td>12 QUEENS</td><td>QUEENS</td><td>1042027</td><td>197389</td><td>Unspecified</td><td>QUEENS</td><td>Unspecified</td><td>Unspecified</td><td>Unspecified</td><td>Unspecified</td><td>Unspecified</td><td>Unspecified</td><td>Unspecified</td><td>Unspecified</td><td>Unspecified</td><td>N</td><td>NA</td><td>NA</td><td>NA</td><td>NA</td><td>NA</td><td>NA</td><td>NA</td><td>NA</td><td>NA</td><td>NA</td><td>NA</td><td>40.70827532593202</td><td>-73.79160395779721</td><td>(40.70827532593202, -73.79160395779721)</td></tr><tr><th>2</th><td>10/31/2013 02:01:04 AM</td><td>NA</td><td>NYPD</td><td>New York City Police Department</td><td>Illegal Parking</td><td>Street/Sidewalk</td><td>11378</td><td>58 AVENUE</td><td>58 AVENUE</td><td>58 PLACE</td><td>59 STREET</td><td>NA</td><td>NA</td><td>BLOCKFACE</td><td>MASPETH</td><td>NA</td><td>Precinct</td><td>Open</td><td>10/31/2013 10:01:04 AM</td><td>NA</td><td>05 QUEENS</td><td>QUEENS</td><td>1009349</td><td>201984</td><td>Unspecified</td><td>QUEENS</td><td>Unspecified</td><td>Unspecified</td><td>Unspecified</td><td>Unspecified</td><td>Unspecified</td><td>Unspecified</td><td>Unspecified</td><td>Unspecified</td><td>Unspecified</td><td>N</td><td>NA</td><td>NA</td><td>NA</td><td>NA</td><td>NA</td><td>NA</td><td>NA</td><td>NA</td><td>NA</td><td>NA</td><td>NA</td><td>40.721040535628305</td><td>-73.90945306791765</td><td>(40.721040535628305, -73.90945306791765)</td></tr><tr><th>3</th><td>10/31/2013 02:00:24 AM</td><td>10/31/2013 02:40:32 AM</td><td>NYPD</td><td>New York City Police Department</td><td>Noise - Commercial</td><td>Club/Bar/Restaurant</td><td>10032</td><td>4060 BROADWAY</td><td>BROADWAY</td><td>WEST 171 STREET</td><td>WEST 172 STREET</td><td>NA</td><td>NA</td><td>ADDRESS</td><td>NEW YORK</td><td>NA</td><td>Precinct</td><td>Closed</td><td>10/31/2013 10:00:24 AM</td><td>10/31/2013 02:39:42 AM</td><td>12 MANHATTAN</td><td>MANHATTAN</td><td>1001088</td><td>246531</td><td>Unspecified</td><td>MANHATTAN</td><td>Unspecified</td><td>Unspecified</td><td>Unspecified</td><td>Unspecified</td><td>Unspecified</td><td>Unspecified</td><td>Unspecified</td><td>Unspecified</td><td>Unspecified</td><td>N</td><td>NA</td><td>NA</td><td>NA</td><td>NA</td><td>NA</td><td>NA</td><td>NA</td><td>NA</td><td>NA</td><td>NA</td><td>NA</td><td>40.84332975466513</td><td>-73.93914371913482</td><td>(40.84332975466513, -73.93914371913482)</td></tr><tr><th>4</th><td>10/31/2013 01:56:23 AM</td><td>10/31/2013 02:21:48 AM</td><td>NYPD</td><td>New York City Police Department</td><td>Noise - Vehicle</td><td>Street/Sidewalk</td><td>10023</td><td>WEST 72 STREET</td><td>WEST 72 STREET</td><td>COLUMBUS AVENUE</td><td>AMSTERDAM AVENUE</td><td>NA</td><td>NA</td><td>BLOCKFACE</td><td>NEW YORK</td><td>NA</td><td>Precinct</td><td>Closed</td><td>10/31/2013 09:56:23 AM</td><td>10/31/2013 02:21:10 AM</td><td>07 MANHATTAN</td><td>MANHATTAN</td><td>989730</td><td>222727</td><td>Unspecified</td><td>MANHATTAN</td><td>Unspecified</td><td>Unspecified</td><td>Unspecified</td><td>Unspecified</td><td>Unspecified</td><td>Unspecified</td><td>Unspecified</td><td>Unspecified</td><td>Unspecified</td><td>N</td><td>NA</td><td>NA</td><td>NA</td><td>NA</td><td>NA</td><td>NA</td><td>NA</td><td>NA</td><td>NA</td><td>NA</td><td>NA</td><td>40.7780087446372</td><td>-73.98021349023975</td><td>(40.7780087446372, -73.98021349023975)</td></tr><tr><th>5</th><td>10/31/2013 01:53:44 AM</td><td>NA</td><td>DOHMH</td><td>Department of Health and Mental Hygiene</td><td>Rodent</td><td>Vacant Lot</td><td>10027</td><td>WEST 124 STREET</td><td>WEST 124 STREET</td><td>LENOX AVENUE</td><td>ADAM CLAYTON POWELL JR BOULEVARD</td><td>NA</td><td>NA</td><td>BLOCKFACE</td><td>NEW YORK</td><td>NA</td><td>N/A</td><td>Pending</td><td>11/30/2013 01:53:44 AM</td><td>10/31/2013 01:59:54 AM</td><td>10 MANHATTAN</td><td>MANHATTAN</td><td>998815</td><td>233545</td><td>Unspecified</td><td>MANHATTAN</td><td>Unspecified</td><td>Unspecified</td><td>Unspecified</td><td>Unspecified</td><td>Unspecified</td><td>Unspecified</td><td>Unspecified</td><td>Unspecified</td><td>Unspecified</td><td>N</td><td>NA</td><td>NA</td><td>NA</td><td>NA</td><td>NA</td><td>NA</td><td>NA</td><td>NA</td><td>NA</td><td>NA</td><td>NA</td><td>40.80769092704951</td><td>-73.94738703491433</td><td>(40.80769092704951, -73.94738703491433)</td></tr><tr><th>6</th><td>10/31/2013 01:46:52 AM</td><td>NA</td><td>NYPD</td><td>New York City Police Department</td><td>Noise - Commercial</td><td>Club/Bar/Restaurant</td><td>11372</td><td>37 AVENUE</td><td>37 AVENUE</td><td>84 STREET</td><td>85 STREET</td><td>NA</td><td>NA</td><td>BLOCKFACE</td><td>JACKSON HEIGHTS</td><td>NA</td><td>Precinct</td><td>Open</td><td>10/31/2013 09:46:52 AM</td><td>NA</td><td>03 QUEENS</td><td>QUEENS</td><td>1016948</td><td>212540</td><td>Unspecified</td><td>QUEENS</td><td>Unspecified</td><td>Unspecified</td><td>Unspecified</td><td>Unspecified</td><td>Unspecified</td><td>Unspecified</td><td>Unspecified</td><td>Unspecified</td><td>Unspecified</td><td>N</td><td>NA</td><td>NA</td><td>NA</td><td>NA</td><td>NA</td><td>NA</td><td>NA</td><td>NA</td><td>NA</td><td>NA</td><td>NA</td><td>40.7499893014072</td><td>-73.88198770727831</td><td>(40.7499893014072, -73.88198770727831)</td></tr></tbody></table>"
      ],
      "text/plain": [
       "6×50 DataFrames.DataFrame\n",
       "│ Row │ Created_Date             │ Closed_Date              │ Agency  │\n",
       "├─────┼──────────────────────────┼──────────────────────────┼─────────┤\n",
       "│ 1   │ \"10/31/2013 02:08:41 AM\" │ NA                       │ \"NYPD\"  │\n",
       "│ 2   │ \"10/31/2013 02:01:04 AM\" │ NA                       │ \"NYPD\"  │\n",
       "│ 3   │ \"10/31/2013 02:00:24 AM\" │ \"10/31/2013 02:40:32 AM\" │ \"NYPD\"  │\n",
       "│ 4   │ \"10/31/2013 01:56:23 AM\" │ \"10/31/2013 02:21:48 AM\" │ \"NYPD\"  │\n",
       "│ 5   │ \"10/31/2013 01:53:44 AM\" │ NA                       │ \"DOHMH\" │\n",
       "│ 6   │ \"10/31/2013 01:46:52 AM\" │ NA                       │ \"NYPD\"  │\n",
       "\n",
       "│ Row │ Agency_Name                               │ Complaint_Type            │\n",
       "├─────┼───────────────────────────────────────────┼───────────────────────────┤\n",
       "│ 1   │ \"New York City Police Department\"         │ \"Noise - Street/Sidewalk\" │\n",
       "│ 2   │ \"New York City Police Department\"         │ \"Illegal Parking\"         │\n",
       "│ 3   │ \"New York City Police Department\"         │ \"Noise - Commercial\"      │\n",
       "│ 4   │ \"New York City Police Department\"         │ \"Noise - Vehicle\"         │\n",
       "│ 5   │ \"Department of Health and Mental Hygiene\" │ \"Rodent\"                  │\n",
       "│ 6   │ \"New York City Police Department\"         │ \"Noise - Commercial\"      │\n",
       "\n",
       "│ Row │ Location_Type         │ Incident_Zip │ Incident_Address   │\n",
       "├─────┼───────────────────────┼──────────────┼────────────────────┤\n",
       "│ 1   │ \"Street/Sidewalk\"     │ \"11432\"      │ \"90-03 169 STREET\" │\n",
       "│ 2   │ \"Street/Sidewalk\"     │ \"11378\"      │ \"58 AVENUE\"        │\n",
       "│ 3   │ \"Club/Bar/Restaurant\" │ \"10032\"      │ \"4060 BROADWAY\"    │\n",
       "│ 4   │ \"Street/Sidewalk\"     │ \"10023\"      │ \"WEST 72 STREET\"   │\n",
       "│ 5   │ \"Vacant Lot\"          │ \"10027\"      │ \"WEST 124 STREET\"  │\n",
       "│ 6   │ \"Club/Bar/Restaurant\" │ \"11372\"      │ \"37 AVENUE\"        │\n",
       "\n",
       "│ Row │ Street_Name       │ Cross_Street_1    │\n",
       "├─────┼───────────────────┼───────────────────┤\n",
       "│ 1   │ \"169 STREET\"      │ \"90 AVENUE\"       │\n",
       "│ 2   │ \"58 AVENUE\"       │ \"58 PLACE\"        │\n",
       "│ 3   │ \"BROADWAY\"        │ \"WEST 171 STREET\" │\n",
       "│ 4   │ \"WEST 72 STREET\"  │ \"COLUMBUS AVENUE\" │\n",
       "│ 5   │ \"WEST 124 STREET\" │ \"LENOX AVENUE\"    │\n",
       "│ 6   │ \"37 AVENUE\"       │ \"84 STREET\"       │\n",
       "\n",
       "│ Row │ Cross_Street_2                     │ Intersection_Street_1 │\n",
       "├─────┼────────────────────────────────────┼───────────────────────┤\n",
       "│ 1   │ \"91 AVENUE\"                        │ NA                    │\n",
       "│ 2   │ \"59 STREET\"                        │ NA                    │\n",
       "│ 3   │ \"WEST 172 STREET\"                  │ NA                    │\n",
       "│ 4   │ \"AMSTERDAM AVENUE\"                 │ NA                    │\n",
       "│ 5   │ \"ADAM CLAYTON POWELL JR BOULEVARD\" │ NA                    │\n",
       "│ 6   │ \"85 STREET\"                        │ NA                    │\n",
       "\n",
       "│ Row │ Intersection_Street_2 │ Address_Type │ City              │ Landmark │\n",
       "├─────┼───────────────────────┼──────────────┼───────────────────┼──────────┤\n",
       "│ 1   │ NA                    │ \"ADDRESS\"    │ \"JAMAICA\"         │ NA       │\n",
       "│ 2   │ NA                    │ \"BLOCKFACE\"  │ \"MASPETH\"         │ NA       │\n",
       "│ 3   │ NA                    │ \"ADDRESS\"    │ \"NEW YORK\"        │ NA       │\n",
       "│ 4   │ NA                    │ \"BLOCKFACE\"  │ \"NEW YORK\"        │ NA       │\n",
       "│ 5   │ NA                    │ \"BLOCKFACE\"  │ \"NEW YORK\"        │ NA       │\n",
       "│ 6   │ NA                    │ \"BLOCKFACE\"  │ \"JACKSON HEIGHTS\" │ NA       │\n",
       "\n",
       "│ Row │ Facility_Type │ Status     │ Due_Date                 │\n",
       "├─────┼───────────────┼────────────┼──────────────────────────┤\n",
       "│ 1   │ \"Precinct\"    │ \"Assigned\" │ \"10/31/2013 10:08:41 AM\" │\n",
       "│ 2   │ \"Precinct\"    │ \"Open\"     │ \"10/31/2013 10:01:04 AM\" │\n",
       "│ 3   │ \"Precinct\"    │ \"Closed\"   │ \"10/31/2013 10:00:24 AM\" │\n",
       "│ 4   │ \"Precinct\"    │ \"Closed\"   │ \"10/31/2013 09:56:23 AM\" │\n",
       "│ 5   │ \"N/A\"         │ \"Pending\"  │ \"11/30/2013 01:53:44 AM\" │\n",
       "│ 6   │ \"Precinct\"    │ \"Open\"     │ \"10/31/2013 09:46:52 AM\" │\n",
       "\n",
       "│ Row │ Resolution_Action_Updated_Date │ Community_Board │ Borough     │\n",
       "├─────┼────────────────────────────────┼─────────────────┼─────────────┤\n",
       "│ 1   │ \"10/31/2013 02:35:17 AM\"       │ \"12 QUEENS\"     │ \"QUEENS\"    │\n",
       "│ 2   │ NA                             │ \"05 QUEENS\"     │ \"QUEENS\"    │\n",
       "│ 3   │ \"10/31/2013 02:39:42 AM\"       │ \"12 MANHATTAN\"  │ \"MANHATTAN\" │\n",
       "│ 4   │ \"10/31/2013 02:21:10 AM\"       │ \"07 MANHATTAN\"  │ \"MANHATTAN\" │\n",
       "│ 5   │ \"10/31/2013 01:59:54 AM\"       │ \"10 MANHATTAN\"  │ \"MANHATTAN\" │\n",
       "│ 6   │ NA                             │ \"03 QUEENS\"     │ \"QUEENS\"    │\n",
       "\n",
       "│ Row │ X_Coordinate_State_Plane_ │ Y_Coordinate_State_Plane_ │\n",
       "├─────┼───────────────────────────┼───────────────────────────┤\n",
       "│ 1   │ 1042027                   │ 197389                    │\n",
       "│ 2   │ 1009349                   │ 201984                    │\n",
       "│ 3   │ 1001088                   │ 246531                    │\n",
       "│ 4   │ 989730                    │ 222727                    │\n",
       "│ 5   │ 998815                    │ 233545                    │\n",
       "│ 6   │ 1016948                   │ 212540                    │\n",
       "\n",
       "│ Row │ Park_Facility_Name │ Park_Borough │ School_Name   │ School_Number │\n",
       "├─────┼────────────────────┼──────────────┼───────────────┼───────────────┤\n",
       "│ 1   │ \"Unspecified\"      │ \"QUEENS\"     │ \"Unspecified\" │ \"Unspecified\" │\n",
       "│ 2   │ \"Unspecified\"      │ \"QUEENS\"     │ \"Unspecified\" │ \"Unspecified\" │\n",
       "│ 3   │ \"Unspecified\"      │ \"MANHATTAN\"  │ \"Unspecified\" │ \"Unspecified\" │\n",
       "│ 4   │ \"Unspecified\"      │ \"MANHATTAN\"  │ \"Unspecified\" │ \"Unspecified\" │\n",
       "│ 5   │ \"Unspecified\"      │ \"MANHATTAN\"  │ \"Unspecified\" │ \"Unspecified\" │\n",
       "│ 6   │ \"Unspecified\"      │ \"QUEENS\"     │ \"Unspecified\" │ \"Unspecified\" │\n",
       "\n",
       "│ Row │ School_Region │ School_Code   │ School_Phone_Number │ School_Address │\n",
       "├─────┼───────────────┼───────────────┼─────────────────────┼────────────────┤\n",
       "│ 1   │ \"Unspecified\" │ \"Unspecified\" │ \"Unspecified\"       │ \"Unspecified\"  │\n",
       "│ 2   │ \"Unspecified\" │ \"Unspecified\" │ \"Unspecified\"       │ \"Unspecified\"  │\n",
       "│ 3   │ \"Unspecified\" │ \"Unspecified\" │ \"Unspecified\"       │ \"Unspecified\"  │\n",
       "│ 4   │ \"Unspecified\" │ \"Unspecified\" │ \"Unspecified\"       │ \"Unspecified\"  │\n",
       "│ 5   │ \"Unspecified\" │ \"Unspecified\" │ \"Unspecified\"       │ \"Unspecified\"  │\n",
       "│ 6   │ \"Unspecified\" │ \"Unspecified\" │ \"Unspecified\"       │ \"Unspecified\"  │\n",
       "\n",
       "│ Row │ School_City   │ School_State  │ School_Zip    │ School_Not_Found │\n",
       "├─────┼───────────────┼───────────────┼───────────────┼──────────────────┤\n",
       "│ 1   │ \"Unspecified\" │ \"Unspecified\" │ \"Unspecified\" │ \"N\"              │\n",
       "│ 2   │ \"Unspecified\" │ \"Unspecified\" │ \"Unspecified\" │ \"N\"              │\n",
       "│ 3   │ \"Unspecified\" │ \"Unspecified\" │ \"Unspecified\" │ \"N\"              │\n",
       "│ 4   │ \"Unspecified\" │ \"Unspecified\" │ \"Unspecified\" │ \"N\"              │\n",
       "│ 5   │ \"Unspecified\" │ \"Unspecified\" │ \"Unspecified\" │ \"N\"              │\n",
       "│ 6   │ \"Unspecified\" │ \"Unspecified\" │ \"Unspecified\" │ \"N\"              │\n",
       "\n",
       "│ Row │ School_or_Citywide_Complaint │ Vehicle_Type │ Taxi_Company_Borough │\n",
       "├─────┼──────────────────────────────┼──────────────┼──────────────────────┤\n",
       "│ 1   │ NA                           │ NA           │ NA                   │\n",
       "│ 2   │ NA                           │ NA           │ NA                   │\n",
       "│ 3   │ NA                           │ NA           │ NA                   │\n",
       "│ 4   │ NA                           │ NA           │ NA                   │\n",
       "│ 5   │ NA                           │ NA           │ NA                   │\n",
       "│ 6   │ NA                           │ NA           │ NA                   │\n",
       "\n",
       "│ Row │ Taxi_Pick_Up_Location │ Bridge_Highway_Name │ Bridge_Highway_Direction │\n",
       "├─────┼───────────────────────┼─────────────────────┼──────────────────────────┤\n",
       "│ 1   │ NA                    │ NA                  │ NA                       │\n",
       "│ 2   │ NA                    │ NA                  │ NA                       │\n",
       "│ 3   │ NA                    │ NA                  │ NA                       │\n",
       "│ 4   │ NA                    │ NA                  │ NA                       │\n",
       "│ 5   │ NA                    │ NA                  │ NA                       │\n",
       "│ 6   │ NA                    │ NA                  │ NA                       │\n",
       "\n",
       "│ Row │ Road_Ramp │ Bridge_Highway_Segment │ Garage_Lot_Name │ Ferry_Direction │\n",
       "├─────┼───────────┼────────────────────────┼─────────────────┼─────────────────┤\n",
       "│ 1   │ NA        │ NA                     │ NA              │ NA              │\n",
       "│ 2   │ NA        │ NA                     │ NA              │ NA              │\n",
       "│ 3   │ NA        │ NA                     │ NA              │ NA              │\n",
       "│ 4   │ NA        │ NA                     │ NA              │ NA              │\n",
       "│ 5   │ NA        │ NA                     │ NA              │ NA              │\n",
       "│ 6   │ NA        │ NA                     │ NA              │ NA              │\n",
       "\n",
       "│ Row │ Ferry_Terminal_Name │ Latitude │ Longitude │\n",
       "├─────┼─────────────────────┼──────────┼───────────┤\n",
       "│ 1   │ NA                  │ 40.7083  │ -73.7916  │\n",
       "│ 2   │ NA                  │ 40.721   │ -73.9095  │\n",
       "│ 3   │ NA                  │ 40.8433  │ -73.9391  │\n",
       "│ 4   │ NA                  │ 40.778   │ -73.9802  │\n",
       "│ 5   │ NA                  │ 40.8077  │ -73.9474  │\n",
       "│ 6   │ NA                  │ 40.75    │ -73.882   │\n",
       "\n",
       "│ Row │ Location                                   │\n",
       "├─────┼────────────────────────────────────────────┤\n",
       "│ 1   │ \"(40.70827532593202, -73.79160395779721)\"  │\n",
       "│ 2   │ \"(40.721040535628305, -73.90945306791765)\" │\n",
       "│ 3   │ \"(40.84332975466513, -73.93914371913482)\"  │\n",
       "│ 4   │ \"(40.7780087446372, -73.98021349023975)\"   │\n",
       "│ 5   │ \"(40.80769092704951, -73.94738703491433)\"  │\n",
       "│ 6   │ \"(40.7499893014072, -73.88198770727831)\"   │"
      ]
     },
     "execution_count": 8,
     "metadata": {},
     "output_type": "execute_result"
    }
   ],
   "source": [
    "select_cols_1 = complaints[filter(x -> x ∉ [:Unique_Key, :Descriptor], names(complaints))]\n",
    "head(select_cols_1)"
   ]
  },
  {
   "cell_type": "markdown",
   "metadata": {},
   "source": [
    "And of course you can select columns based on indexes(remember that Julia's index starts with 1, not 0):"
   ]
  },
  {
   "cell_type": "code",
   "execution_count": 9,
   "metadata": {},
   "outputs": [
    {
     "data": {
      "text/plain": [
       "111069-element DataArrays.DataArray{String,1}:\n",
       " \"10/31/2013 02:08:41 AM\"\n",
       " \"10/31/2013 02:01:04 AM\"\n",
       " \"10/31/2013 02:00:24 AM\"\n",
       " \"10/31/2013 01:56:23 AM\"\n",
       " \"10/31/2013 01:53:44 AM\"\n",
       " \"10/31/2013 01:46:52 AM\"\n",
       " \"10/31/2013 01:46:40 AM\"\n",
       " \"10/31/2013 01:44:19 AM\"\n",
       " \"10/31/2013 01:44:14 AM\"\n",
       " \"10/31/2013 01:34:41 AM\"\n",
       " \"10/31/2013 01:25:12 AM\"\n",
       " \"10/31/2013 01:24:14 AM\"\n",
       " \"10/31/2013 01:20:57 AM\"\n",
       " ⋮                       \n",
       " \"10/04/2013 12:06:00 AM\"\n",
       " \"10/04/2013 12:05:12 AM\"\n",
       " \"10/04/2013 12:04:52 AM\"\n",
       " \"10/04/2013 12:04:00 AM\"\n",
       " \"10/04/2013 12:03:00 AM\"\n",
       " \"10/04/2013 12:03:00 AM\"\n",
       " \"10/04/2013 12:02:00 AM\"\n",
       " \"10/04/2013 12:01:13 AM\"\n",
       " \"10/04/2013 12:01:05 AM\"\n",
       " \"10/04/2013 12:00:45 AM\"\n",
       " \"10/04/2013 12:00:28 AM\"\n",
       " \"10/04/2013 12:00:10 AM\""
      ]
     },
     "execution_count": 9,
     "metadata": {},
     "output_type": "execute_result"
    }
   ],
   "source": [
    "complaints[2]"
   ]
  },
  {
   "cell_type": "code",
   "execution_count": 10,
   "metadata": {},
   "outputs": [
    {
     "data": {
      "text/html": [
       "<table class=\"data-frame\"><thead><tr><th></th><th>Unique_Key</th><th>Closed_Date</th><th>Location_Type</th></tr></thead><tbody><tr><th>1</th><td>26589651</td><td>NA</td><td>Street/Sidewalk</td></tr><tr><th>2</th><td>26593698</td><td>NA</td><td>Street/Sidewalk</td></tr><tr><th>3</th><td>26594139</td><td>10/31/2013 02:40:32 AM</td><td>Club/Bar/Restaurant</td></tr><tr><th>4</th><td>26595721</td><td>10/31/2013 02:21:48 AM</td><td>Street/Sidewalk</td></tr><tr><th>5</th><td>26590930</td><td>NA</td><td>Vacant Lot</td></tr><tr><th>6</th><td>26592370</td><td>NA</td><td>Club/Bar/Restaurant</td></tr></tbody></table>"
      ],
      "text/plain": [
       "6×3 DataFrames.DataFrame\n",
       "│ Row │ Unique_Key │ Closed_Date              │ Location_Type         │\n",
       "├─────┼────────────┼──────────────────────────┼───────────────────────┤\n",
       "│ 1   │ 26589651   │ NA                       │ \"Street/Sidewalk\"     │\n",
       "│ 2   │ 26593698   │ NA                       │ \"Street/Sidewalk\"     │\n",
       "│ 3   │ 26594139   │ \"10/31/2013 02:40:32 AM\" │ \"Club/Bar/Restaurant\" │\n",
       "│ 4   │ 26595721   │ \"10/31/2013 02:21:48 AM\" │ \"Street/Sidewalk\"     │\n",
       "│ 5   │ 26590930   │ NA                       │ \"Vacant Lot\"          │\n",
       "│ 6   │ 26592370   │ NA                       │ \"Club/Bar/Restaurant\" │"
      ]
     },
     "execution_count": 10,
     "metadata": {},
     "output_type": "execute_result"
    }
   ],
   "source": [
    "head(complaints[[1,3,8]])"
   ]
  },
  {
   "cell_type": "code",
   "execution_count": 11,
   "metadata": {},
   "outputs": [
    {
     "data": {
      "text/html": [
       "<table class=\"data-frame\"><thead><tr><th></th><th>Unique_Key</th><th>Created_Date</th><th>Closed_Date</th><th>Agency</th></tr></thead><tbody><tr><th>1</th><td>26589651</td><td>10/31/2013 02:08:41 AM</td><td>NA</td><td>NYPD</td></tr><tr><th>2</th><td>26593698</td><td>10/31/2013 02:01:04 AM</td><td>NA</td><td>NYPD</td></tr><tr><th>3</th><td>26594139</td><td>10/31/2013 02:00:24 AM</td><td>10/31/2013 02:40:32 AM</td><td>NYPD</td></tr><tr><th>4</th><td>26595721</td><td>10/31/2013 01:56:23 AM</td><td>10/31/2013 02:21:48 AM</td><td>NYPD</td></tr><tr><th>5</th><td>26590930</td><td>10/31/2013 01:53:44 AM</td><td>NA</td><td>DOHMH</td></tr><tr><th>6</th><td>26592370</td><td>10/31/2013 01:46:52 AM</td><td>NA</td><td>NYPD</td></tr></tbody></table>"
      ],
      "text/plain": [
       "6×4 DataFrames.DataFrame\n",
       "│ Row │ Unique_Key │ Created_Date             │ Closed_Date              │\n",
       "├─────┼────────────┼──────────────────────────┼──────────────────────────┤\n",
       "│ 1   │ 26589651   │ \"10/31/2013 02:08:41 AM\" │ NA                       │\n",
       "│ 2   │ 26593698   │ \"10/31/2013 02:01:04 AM\" │ NA                       │\n",
       "│ 3   │ 26594139   │ \"10/31/2013 02:00:24 AM\" │ \"10/31/2013 02:40:32 AM\" │\n",
       "│ 4   │ 26595721   │ \"10/31/2013 01:56:23 AM\" │ \"10/31/2013 02:21:48 AM\" │\n",
       "│ 5   │ 26590930   │ \"10/31/2013 01:53:44 AM\" │ NA                       │\n",
       "│ 6   │ 26592370   │ \"10/31/2013 01:46:52 AM\" │ NA                       │\n",
       "\n",
       "│ Row │ Agency  │\n",
       "├─────┼─────────┤\n",
       "│ 1   │ \"NYPD\"  │\n",
       "│ 2   │ \"NYPD\"  │\n",
       "│ 3   │ \"NYPD\"  │\n",
       "│ 4   │ \"NYPD\"  │\n",
       "│ 5   │ \"DOHMH\" │\n",
       "│ 6   │ \"NYPD\"  │"
      ]
     },
     "execution_count": 11,
     "metadata": {},
     "output_type": "execute_result"
    }
   ],
   "source": [
    "head(complaints[1:4])"
   ]
  },
  {
   "cell_type": "markdown",
   "metadata": {},
   "source": [
    "Selecting rows is similar to selecting columns:"
   ]
  },
  {
   "cell_type": "code",
   "execution_count": 12,
   "metadata": {},
   "outputs": [
    {
     "data": {
      "text/html": [
       "<table class=\"data-frame\"><thead><tr><th></th><th>Unique_Key</th><th>Created_Date</th><th>Closed_Date</th><th>Agency</th><th>Agency_Name</th><th>Complaint_Type</th><th>Descriptor</th><th>Location_Type</th><th>Incident_Zip</th><th>Incident_Address</th><th>Street_Name</th><th>Cross_Street_1</th><th>Cross_Street_2</th><th>Intersection_Street_1</th><th>Intersection_Street_2</th><th>Address_Type</th><th>City</th><th>Landmark</th><th>Facility_Type</th><th>Status</th><th>Due_Date</th><th>Resolution_Action_Updated_Date</th><th>Community_Board</th><th>Borough</th><th>X_Coordinate_State_Plane_</th><th>Y_Coordinate_State_Plane_</th><th>Park_Facility_Name</th><th>Park_Borough</th><th>School_Name</th><th>School_Number</th><th>School_Region</th><th>School_Code</th><th>School_Phone_Number</th><th>School_Address</th><th>School_City</th><th>School_State</th><th>School_Zip</th><th>School_Not_Found</th><th>School_or_Citywide_Complaint</th><th>Vehicle_Type</th><th>Taxi_Company_Borough</th><th>Taxi_Pick_Up_Location</th><th>Bridge_Highway_Name</th><th>Bridge_Highway_Direction</th><th>Road_Ramp</th><th>Bridge_Highway_Segment</th><th>Garage_Lot_Name</th><th>Ferry_Direction</th><th>Ferry_Terminal_Name</th><th>Latitude</th><th>Longitude</th><th>Location</th></tr></thead><tbody><tr><th>1</th><td>26594139</td><td>10/31/2013 02:00:24 AM</td><td>10/31/2013 02:40:32 AM</td><td>NYPD</td><td>New York City Police Department</td><td>Noise - Commercial</td><td>Loud Music/Party</td><td>Club/Bar/Restaurant</td><td>10032</td><td>4060 BROADWAY</td><td>BROADWAY</td><td>WEST 171 STREET</td><td>WEST 172 STREET</td><td>NA</td><td>NA</td><td>ADDRESS</td><td>NEW YORK</td><td>NA</td><td>Precinct</td><td>Closed</td><td>10/31/2013 10:00:24 AM</td><td>10/31/2013 02:39:42 AM</td><td>12 MANHATTAN</td><td>MANHATTAN</td><td>1001088</td><td>246531</td><td>Unspecified</td><td>MANHATTAN</td><td>Unspecified</td><td>Unspecified</td><td>Unspecified</td><td>Unspecified</td><td>Unspecified</td><td>Unspecified</td><td>Unspecified</td><td>Unspecified</td><td>Unspecified</td><td>N</td><td>NA</td><td>NA</td><td>NA</td><td>NA</td><td>NA</td><td>NA</td><td>NA</td><td>NA</td><td>NA</td><td>NA</td><td>NA</td><td>40.84332975466513</td><td>-73.93914371913482</td><td>(40.84332975466513, -73.93914371913482)</td></tr><tr><th>2</th><td>26595721</td><td>10/31/2013 01:56:23 AM</td><td>10/31/2013 02:21:48 AM</td><td>NYPD</td><td>New York City Police Department</td><td>Noise - Vehicle</td><td>Car/Truck Horn</td><td>Street/Sidewalk</td><td>10023</td><td>WEST 72 STREET</td><td>WEST 72 STREET</td><td>COLUMBUS AVENUE</td><td>AMSTERDAM AVENUE</td><td>NA</td><td>NA</td><td>BLOCKFACE</td><td>NEW YORK</td><td>NA</td><td>Precinct</td><td>Closed</td><td>10/31/2013 09:56:23 AM</td><td>10/31/2013 02:21:10 AM</td><td>07 MANHATTAN</td><td>MANHATTAN</td><td>989730</td><td>222727</td><td>Unspecified</td><td>MANHATTAN</td><td>Unspecified</td><td>Unspecified</td><td>Unspecified</td><td>Unspecified</td><td>Unspecified</td><td>Unspecified</td><td>Unspecified</td><td>Unspecified</td><td>Unspecified</td><td>N</td><td>NA</td><td>NA</td><td>NA</td><td>NA</td><td>NA</td><td>NA</td><td>NA</td><td>NA</td><td>NA</td><td>NA</td><td>NA</td><td>40.7780087446372</td><td>-73.98021349023975</td><td>(40.7780087446372, -73.98021349023975)</td></tr><tr><th>3</th><td>26590930</td><td>10/31/2013 01:53:44 AM</td><td>NA</td><td>DOHMH</td><td>Department of Health and Mental Hygiene</td><td>Rodent</td><td>Condition Attracting Rodents</td><td>Vacant Lot</td><td>10027</td><td>WEST 124 STREET</td><td>WEST 124 STREET</td><td>LENOX AVENUE</td><td>ADAM CLAYTON POWELL JR BOULEVARD</td><td>NA</td><td>NA</td><td>BLOCKFACE</td><td>NEW YORK</td><td>NA</td><td>N/A</td><td>Pending</td><td>11/30/2013 01:53:44 AM</td><td>10/31/2013 01:59:54 AM</td><td>10 MANHATTAN</td><td>MANHATTAN</td><td>998815</td><td>233545</td><td>Unspecified</td><td>MANHATTAN</td><td>Unspecified</td><td>Unspecified</td><td>Unspecified</td><td>Unspecified</td><td>Unspecified</td><td>Unspecified</td><td>Unspecified</td><td>Unspecified</td><td>Unspecified</td><td>N</td><td>NA</td><td>NA</td><td>NA</td><td>NA</td><td>NA</td><td>NA</td><td>NA</td><td>NA</td><td>NA</td><td>NA</td><td>NA</td><td>40.80769092704951</td><td>-73.94738703491433</td><td>(40.80769092704951, -73.94738703491433)</td></tr></tbody></table>"
      ],
      "text/plain": [
       "3×52 DataFrames.DataFrame\n",
       "│ Row │ Unique_Key │ Created_Date             │ Closed_Date              │\n",
       "├─────┼────────────┼──────────────────────────┼──────────────────────────┤\n",
       "│ 1   │ 26594139   │ \"10/31/2013 02:00:24 AM\" │ \"10/31/2013 02:40:32 AM\" │\n",
       "│ 2   │ 26595721   │ \"10/31/2013 01:56:23 AM\" │ \"10/31/2013 02:21:48 AM\" │\n",
       "│ 3   │ 26590930   │ \"10/31/2013 01:53:44 AM\" │ NA                       │\n",
       "\n",
       "│ Row │ Agency  │ Agency_Name                               │\n",
       "├─────┼─────────┼───────────────────────────────────────────┤\n",
       "│ 1   │ \"NYPD\"  │ \"New York City Police Department\"         │\n",
       "│ 2   │ \"NYPD\"  │ \"New York City Police Department\"         │\n",
       "│ 3   │ \"DOHMH\" │ \"Department of Health and Mental Hygiene\" │\n",
       "\n",
       "│ Row │ Complaint_Type       │ Descriptor                     │\n",
       "├─────┼──────────────────────┼────────────────────────────────┤\n",
       "│ 1   │ \"Noise - Commercial\" │ \"Loud Music/Party\"             │\n",
       "│ 2   │ \"Noise - Vehicle\"    │ \"Car/Truck Horn\"               │\n",
       "│ 3   │ \"Rodent\"             │ \"Condition Attracting Rodents\" │\n",
       "\n",
       "│ Row │ Location_Type         │ Incident_Zip │ Incident_Address  │\n",
       "├─────┼───────────────────────┼──────────────┼───────────────────┤\n",
       "│ 1   │ \"Club/Bar/Restaurant\" │ \"10032\"      │ \"4060 BROADWAY\"   │\n",
       "│ 2   │ \"Street/Sidewalk\"     │ \"10023\"      │ \"WEST 72 STREET\"  │\n",
       "│ 3   │ \"Vacant Lot\"          │ \"10027\"      │ \"WEST 124 STREET\" │\n",
       "\n",
       "│ Row │ Street_Name       │ Cross_Street_1    │\n",
       "├─────┼───────────────────┼───────────────────┤\n",
       "│ 1   │ \"BROADWAY\"        │ \"WEST 171 STREET\" │\n",
       "│ 2   │ \"WEST 72 STREET\"  │ \"COLUMBUS AVENUE\" │\n",
       "│ 3   │ \"WEST 124 STREET\" │ \"LENOX AVENUE\"    │\n",
       "\n",
       "│ Row │ Cross_Street_2                     │ Intersection_Street_1 │\n",
       "├─────┼────────────────────────────────────┼───────────────────────┤\n",
       "│ 1   │ \"WEST 172 STREET\"                  │ NA                    │\n",
       "│ 2   │ \"AMSTERDAM AVENUE\"                 │ NA                    │\n",
       "│ 3   │ \"ADAM CLAYTON POWELL JR BOULEVARD\" │ NA                    │\n",
       "\n",
       "│ Row │ Intersection_Street_2 │ Address_Type │ City       │ Landmark │\n",
       "├─────┼───────────────────────┼──────────────┼────────────┼──────────┤\n",
       "│ 1   │ NA                    │ \"ADDRESS\"    │ \"NEW YORK\" │ NA       │\n",
       "│ 2   │ NA                    │ \"BLOCKFACE\"  │ \"NEW YORK\" │ NA       │\n",
       "│ 3   │ NA                    │ \"BLOCKFACE\"  │ \"NEW YORK\" │ NA       │\n",
       "\n",
       "│ Row │ Facility_Type │ Status    │ Due_Date                 │\n",
       "├─────┼───────────────┼───────────┼──────────────────────────┤\n",
       "│ 1   │ \"Precinct\"    │ \"Closed\"  │ \"10/31/2013 10:00:24 AM\" │\n",
       "│ 2   │ \"Precinct\"    │ \"Closed\"  │ \"10/31/2013 09:56:23 AM\" │\n",
       "│ 3   │ \"N/A\"         │ \"Pending\" │ \"11/30/2013 01:53:44 AM\" │\n",
       "\n",
       "│ Row │ Resolution_Action_Updated_Date │ Community_Board │ Borough     │\n",
       "├─────┼────────────────────────────────┼─────────────────┼─────────────┤\n",
       "│ 1   │ \"10/31/2013 02:39:42 AM\"       │ \"12 MANHATTAN\"  │ \"MANHATTAN\" │\n",
       "│ 2   │ \"10/31/2013 02:21:10 AM\"       │ \"07 MANHATTAN\"  │ \"MANHATTAN\" │\n",
       "│ 3   │ \"10/31/2013 01:59:54 AM\"       │ \"10 MANHATTAN\"  │ \"MANHATTAN\" │\n",
       "\n",
       "│ Row │ X_Coordinate_State_Plane_ │ Y_Coordinate_State_Plane_ │\n",
       "├─────┼───────────────────────────┼───────────────────────────┤\n",
       "│ 1   │ 1001088                   │ 246531                    │\n",
       "│ 2   │ 989730                    │ 222727                    │\n",
       "│ 3   │ 998815                    │ 233545                    │\n",
       "\n",
       "│ Row │ Park_Facility_Name │ Park_Borough │ School_Name   │ School_Number │\n",
       "├─────┼────────────────────┼──────────────┼───────────────┼───────────────┤\n",
       "│ 1   │ \"Unspecified\"      │ \"MANHATTAN\"  │ \"Unspecified\" │ \"Unspecified\" │\n",
       "│ 2   │ \"Unspecified\"      │ \"MANHATTAN\"  │ \"Unspecified\" │ \"Unspecified\" │\n",
       "│ 3   │ \"Unspecified\"      │ \"MANHATTAN\"  │ \"Unspecified\" │ \"Unspecified\" │\n",
       "\n",
       "│ Row │ School_Region │ School_Code   │ School_Phone_Number │ School_Address │\n",
       "├─────┼───────────────┼───────────────┼─────────────────────┼────────────────┤\n",
       "│ 1   │ \"Unspecified\" │ \"Unspecified\" │ \"Unspecified\"       │ \"Unspecified\"  │\n",
       "│ 2   │ \"Unspecified\" │ \"Unspecified\" │ \"Unspecified\"       │ \"Unspecified\"  │\n",
       "│ 3   │ \"Unspecified\" │ \"Unspecified\" │ \"Unspecified\"       │ \"Unspecified\"  │\n",
       "\n",
       "│ Row │ School_City   │ School_State  │ School_Zip    │ School_Not_Found │\n",
       "├─────┼───────────────┼───────────────┼───────────────┼──────────────────┤\n",
       "│ 1   │ \"Unspecified\" │ \"Unspecified\" │ \"Unspecified\" │ \"N\"              │\n",
       "│ 2   │ \"Unspecified\" │ \"Unspecified\" │ \"Unspecified\" │ \"N\"              │\n",
       "│ 3   │ \"Unspecified\" │ \"Unspecified\" │ \"Unspecified\" │ \"N\"              │\n",
       "\n",
       "│ Row │ School_or_Citywide_Complaint │ Vehicle_Type │ Taxi_Company_Borough │\n",
       "├─────┼──────────────────────────────┼──────────────┼──────────────────────┤\n",
       "│ 1   │ NA                           │ NA           │ NA                   │\n",
       "│ 2   │ NA                           │ NA           │ NA                   │\n",
       "│ 3   │ NA                           │ NA           │ NA                   │\n",
       "\n",
       "│ Row │ Taxi_Pick_Up_Location │ Bridge_Highway_Name │ Bridge_Highway_Direction │\n",
       "├─────┼───────────────────────┼─────────────────────┼──────────────────────────┤\n",
       "│ 1   │ NA                    │ NA                  │ NA                       │\n",
       "│ 2   │ NA                    │ NA                  │ NA                       │\n",
       "│ 3   │ NA                    │ NA                  │ NA                       │\n",
       "\n",
       "│ Row │ Road_Ramp │ Bridge_Highway_Segment │ Garage_Lot_Name │ Ferry_Direction │\n",
       "├─────┼───────────┼────────────────────────┼─────────────────┼─────────────────┤\n",
       "│ 1   │ NA        │ NA                     │ NA              │ NA              │\n",
       "│ 2   │ NA        │ NA                     │ NA              │ NA              │\n",
       "│ 3   │ NA        │ NA                     │ NA              │ NA              │\n",
       "\n",
       "│ Row │ Ferry_Terminal_Name │ Latitude │ Longitude │\n",
       "├─────┼─────────────────────┼──────────┼───────────┤\n",
       "│ 1   │ NA                  │ 40.8433  │ -73.9391  │\n",
       "│ 2   │ NA                  │ 40.778   │ -73.9802  │\n",
       "│ 3   │ NA                  │ 40.8077  │ -73.9474  │\n",
       "\n",
       "│ Row │ Location                                  │\n",
       "├─────┼───────────────────────────────────────────┤\n",
       "│ 1   │ \"(40.84332975466513, -73.93914371913482)\" │\n",
       "│ 2   │ \"(40.7780087446372, -73.98021349023975)\"  │\n",
       "│ 3   │ \"(40.80769092704951, -73.94738703491433)\" │"
      ]
     },
     "execution_count": 12,
     "metadata": {},
     "output_type": "execute_result"
    }
   ],
   "source": [
    "complaints[3:5, :]"
   ]
  },
  {
   "cell_type": "code",
   "execution_count": 13,
   "metadata": {},
   "outputs": [
    {
     "data": {
      "text/plain": [
       "(55536, 52)"
      ]
     },
     "execution_count": 13,
     "metadata": {},
     "output_type": "execute_result"
    }
   ],
   "source": [
    "n_row, n_col = size(complaints)\n",
    "half_complaints = complaints[div(n_row, 2):end, :]\n",
    "size(half_complaints)"
   ]
  },
  {
   "cell_type": "code",
   "execution_count": 14,
   "metadata": {},
   "outputs": [
    {
     "data": {
      "text/html": [
       "<table class=\"data-frame\"><thead><tr><th></th><th>Unique_Key</th><th>Created_Date</th><th>Closed_Date</th><th>Agency</th><th>Agency_Name</th><th>Complaint_Type</th><th>Descriptor</th><th>Location_Type</th><th>Incident_Zip</th><th>Incident_Address</th><th>Street_Name</th><th>Cross_Street_1</th><th>Cross_Street_2</th><th>Intersection_Street_1</th><th>Intersection_Street_2</th><th>Address_Type</th><th>City</th><th>Landmark</th><th>Facility_Type</th><th>Status</th><th>Due_Date</th><th>Resolution_Action_Updated_Date</th><th>Community_Board</th><th>Borough</th><th>X_Coordinate_State_Plane_</th><th>Y_Coordinate_State_Plane_</th><th>Park_Facility_Name</th><th>Park_Borough</th><th>School_Name</th><th>School_Number</th><th>School_Region</th><th>School_Code</th><th>School_Phone_Number</th><th>School_Address</th><th>School_City</th><th>School_State</th><th>School_Zip</th><th>School_Not_Found</th><th>School_or_Citywide_Complaint</th><th>Vehicle_Type</th><th>Taxi_Company_Borough</th><th>Taxi_Pick_Up_Location</th><th>Bridge_Highway_Name</th><th>Bridge_Highway_Direction</th><th>Road_Ramp</th><th>Bridge_Highway_Segment</th><th>Garage_Lot_Name</th><th>Ferry_Direction</th><th>Ferry_Terminal_Name</th><th>Latitude</th><th>Longitude</th><th>Location</th></tr></thead><tbody><tr><th>1</th><td>26556977</td><td>10/25/2013 04:58:31 PM</td><td>10/29/2013 07:08:47 AM</td><td>DOF</td><td>Department of Finance</td><td>DOF Literature Request</td><td>Property Tax Exemption Application for Owners - English</td><td>NA</td><td>NA</td><td>NA</td><td>NA</td><td>NA</td><td>NA</td><td>NA</td><td>NA</td><td>NA</td><td>NA</td><td>NA</td><td>N/A</td><td>Closed</td><td>11/05/2013 07:04:28 AM</td><td>10/29/2013 07:08:47 AM</td><td>0 Unspecified</td><td>Unspecified</td><td>NA</td><td>NA</td><td>Unspecified</td><td>Unspecified</td><td>Unspecified</td><td>Unspecified</td><td>Unspecified</td><td>Unspecified</td><td>Unspecified</td><td>Unspecified</td><td>Unspecified</td><td>Unspecified</td><td>Unspecified</td><td>N</td><td>NA</td><td>NA</td><td>NA</td><td>NA</td><td>NA</td><td>NA</td><td>NA</td><td>NA</td><td>NA</td><td>NA</td><td>NA</td><td>NA</td><td>NA</td><td>NA</td></tr><tr><th>2</th><td>26571917</td><td>10/27/2013 08:18:00 AM</td><td>10/27/2013 09:05:00 AM</td><td>DOT</td><td>Department of Transportation</td><td>Traffic Signal Condition</td><td>Controller</td><td>NA</td><td>11373</td><td>NA</td><td>NA</td><td>NA</td><td>NA</td><td>QUEENS BOULEVARD</td><td>56 AVENUE</td><td>INTERSECTION</td><td>Elmhurst</td><td>NA</td><td>N/A</td><td>Closed</td><td>NA</td><td>10/27/2013 09:05:00 AM</td><td>04 QUEENS</td><td>QUEENS</td><td>1019008</td><td>206998</td><td>Unspecified</td><td>QUEENS</td><td>Unspecified</td><td>Unspecified</td><td>Unspecified</td><td>Unspecified</td><td>Unspecified</td><td>Unspecified</td><td>Unspecified</td><td>Unspecified</td><td>Unspecified</td><td>NA</td><td>NA</td><td>NA</td><td>NA</td><td>NA</td><td>NA</td><td>NA</td><td>NA</td><td>NA</td><td>NA</td><td>NA</td><td>NA</td><td>40.73477005155517</td><td>-73.87458148691805</td><td>(40.73477005155517, -73.87458148691805)</td></tr><tr><th>3</th><td>26492518</td><td>10/15/2013 03:14:42 PM</td><td>10/15/2013 04:42:39 PM</td><td>NYPD</td><td>New York City Police Department</td><td>Noise - Street/Sidewalk</td><td>Loud Talking</td><td>Street/Sidewalk</td><td>11377</td><td>NA</td><td>NA</td><td>NA</td><td>NA</td><td>68 STREET</td><td>37 AVENUE</td><td>INTERSECTION</td><td>WOODSIDE</td><td>NA</td><td>Precinct</td><td>Closed</td><td>10/15/2013 11:14:42 PM</td><td>10/15/2013 04:42:40 PM</td><td>02 QUEENS</td><td>QUEENS</td><td>1012614</td><td>211959</td><td>Unspecified</td><td>QUEENS</td><td>Unspecified</td><td>Unspecified</td><td>Unspecified</td><td>Unspecified</td><td>Unspecified</td><td>Unspecified</td><td>Unspecified</td><td>Unspecified</td><td>Unspecified</td><td>N</td><td>NA</td><td>NA</td><td>NA</td><td>NA</td><td>NA</td><td>NA</td><td>NA</td><td>NA</td><td>NA</td><td>NA</td><td>NA</td><td>40.748409567922046</td><td>-73.89763223911132</td><td>(40.748409567922046, -73.89763223911132)</td></tr><tr><th>4</th><td>26507644</td><td>10/17/2013 08:43:00 AM</td><td>10/17/2013 12:00:00 PM</td><td>DSNY</td><td>BCC - Manhattan</td><td>Missed Collection (All Materials)</td><td>1 Missed Collection</td><td>Sidewalk</td><td>10012</td><td>66 CROSBY STREET</td><td>CROSBY STREET</td><td>BROOME STREET</td><td>SPRING STREET</td><td>NA</td><td>NA</td><td>ADDRESS</td><td>NEW YORK</td><td>NA</td><td>DSNY Garage</td><td>Closed</td><td>NA</td><td>10/17/2013 12:00:00 PM</td><td>02 MANHATTAN</td><td>MANHATTAN</td><td>984723</td><td>202432</td><td>Unspecified</td><td>MANHATTAN</td><td>Unspecified</td><td>Unspecified</td><td>Unspecified</td><td>Unspecified</td><td>Unspecified</td><td>Unspecified</td><td>Unspecified</td><td>Unspecified</td><td>Unspecified</td><td>NA</td><td>NA</td><td>NA</td><td>NA</td><td>NA</td><td>NA</td><td>NA</td><td>NA</td><td>NA</td><td>NA</td><td>NA</td><td>NA</td><td>40.72230578003531</td><td>-73.99829357726031</td><td>(40.72230578003531, -73.99829357726031)</td></tr><tr><th>5</th><td>26501878</td><td>10/17/2013 06:40:00 AM</td><td>10/18/2013 09:01:00 AM</td><td>DOT</td><td>Department of Transportation</td><td>Street Light Condition</td><td>Street Light Out</td><td>NA</td><td>NA</td><td>-999 FORDHAM RD W</td><td>FORDHAM RD W</td><td>PCRR HARLEM DIV</td><td>UNNAMED ST</td><td>FORDHAM RD W</td><td>MAJOR DEEGAN EXPY EN N/B</td><td>INTERSECTION</td><td>NA</td><td>NA</td><td>N/A</td><td>Closed</td><td>NA</td><td>10/18/2013 09:01:00 AM</td><td>Unspecified BRONX</td><td>BRONX</td><td>NA</td><td>NA</td><td>Unspecified</td><td>BRONX</td><td>Unspecified</td><td>Unspecified</td><td>Unspecified</td><td>Unspecified</td><td>Unspecified</td><td>Unspecified</td><td>Unspecified</td><td>Unspecified</td><td>Unspecified</td><td>NA</td><td>NA</td><td>NA</td><td>NA</td><td>NA</td><td>NA</td><td>NA</td><td>NA</td><td>NA</td><td>NA</td><td>NA</td><td>NA</td><td>NA</td><td>NA</td><td>NA</td></tr><tr><th>6</th><td>26504200</td><td>10/17/2013 03:15:00 PM</td><td>NA</td><td>DEP</td><td>Department of Environmental Protection</td><td>Water Quality</td><td>Taste/Odor, Chlorine (QA1)</td><td>NA</td><td>11220</td><td>5518 6 AVENUE</td><td>6 AVENUE</td><td>55 STREET</td><td>56 STREET</td><td>NA</td><td>NA</td><td>ADDRESS</td><td>BROOKLYN</td><td>NA</td><td>N/A</td><td>Started</td><td>NA</td><td>10/18/2013 09:14:00 AM</td><td>07 BROOKLYN</td><td>BROOKLYN</td><td>981142</td><td>172746</td><td>Unspecified</td><td>BROOKLYN</td><td>Unspecified</td><td>Unspecified</td><td>Unspecified</td><td>Unspecified</td><td>Unspecified</td><td>Unspecified</td><td>Unspecified</td><td>Unspecified</td><td>Unspecified</td><td>NA</td><td>NA</td><td>NA</td><td>NA</td><td>NA</td><td>NA</td><td>NA</td><td>NA</td><td>NA</td><td>NA</td><td>NA</td><td>NA</td><td>40.64082393248311</td><td>-74.01119891246094</td><td>(40.64082393248311, -74.01119891246094)</td></tr></tbody></table>"
      ],
      "text/plain": [
       "6×52 DataFrames.DataFrame\n",
       "│ Row │ Unique_Key │ Created_Date             │ Closed_Date              │\n",
       "├─────┼────────────┼──────────────────────────┼──────────────────────────┤\n",
       "│ 1   │ 26556977   │ \"10/25/2013 04:58:31 PM\" │ \"10/29/2013 07:08:47 AM\" │\n",
       "│ 2   │ 26571917   │ \"10/27/2013 08:18:00 AM\" │ \"10/27/2013 09:05:00 AM\" │\n",
       "│ 3   │ 26492518   │ \"10/15/2013 03:14:42 PM\" │ \"10/15/2013 04:42:39 PM\" │\n",
       "│ 4   │ 26507644   │ \"10/17/2013 08:43:00 AM\" │ \"10/17/2013 12:00:00 PM\" │\n",
       "│ 5   │ 26501878   │ \"10/17/2013 06:40:00 AM\" │ \"10/18/2013 09:01:00 AM\" │\n",
       "│ 6   │ 26504200   │ \"10/17/2013 03:15:00 PM\" │ NA                       │\n",
       "\n",
       "│ Row │ Agency │ Agency_Name                              │\n",
       "├─────┼────────┼──────────────────────────────────────────┤\n",
       "│ 1   │ \"DOF\"  │ \"Department of Finance\"                  │\n",
       "│ 2   │ \"DOT\"  │ \"Department of Transportation\"           │\n",
       "│ 3   │ \"NYPD\" │ \"New York City Police Department\"        │\n",
       "│ 4   │ \"DSNY\" │ \"BCC - Manhattan\"                        │\n",
       "│ 5   │ \"DOT\"  │ \"Department of Transportation\"           │\n",
       "│ 6   │ \"DEP\"  │ \"Department of Environmental Protection\" │\n",
       "\n",
       "│ Row │ Complaint_Type                      │\n",
       "├─────┼─────────────────────────────────────┤\n",
       "│ 1   │ \"DOF Literature Request\"            │\n",
       "│ 2   │ \"Traffic Signal Condition\"          │\n",
       "│ 3   │ \"Noise - Street/Sidewalk\"           │\n",
       "│ 4   │ \"Missed Collection (All Materials)\" │\n",
       "│ 5   │ \"Street Light Condition\"            │\n",
       "│ 6   │ \"Water Quality\"                     │\n",
       "\n",
       "│ Row │ Descriptor                                                │\n",
       "├─────┼───────────────────────────────────────────────────────────┤\n",
       "│ 1   │ \"Property Tax Exemption Application for Owners - English\" │\n",
       "│ 2   │ \"Controller\"                                              │\n",
       "│ 3   │ \"Loud Talking\"                                            │\n",
       "│ 4   │ \"1 Missed Collection\"                                     │\n",
       "│ 5   │ \"Street Light Out\"                                        │\n",
       "│ 6   │ \"Taste/Odor, Chlorine (QA1)\"                              │\n",
       "\n",
       "│ Row │ Location_Type     │ Incident_Zip │ Incident_Address    │\n",
       "├─────┼───────────────────┼──────────────┼─────────────────────┤\n",
       "│ 1   │ NA                │ NA           │ NA                  │\n",
       "│ 2   │ NA                │ \"11373\"      │ NA                  │\n",
       "│ 3   │ \"Street/Sidewalk\" │ \"11377\"      │ NA                  │\n",
       "│ 4   │ \"Sidewalk\"        │ \"10012\"      │ \"66 CROSBY STREET\"  │\n",
       "│ 5   │ NA                │ NA           │ \"-999 FORDHAM RD W\" │\n",
       "│ 6   │ NA                │ \"11220\"      │ \"5518 6 AVENUE\"     │\n",
       "\n",
       "│ Row │ Street_Name     │ Cross_Street_1    │ Cross_Street_2  │\n",
       "├─────┼─────────────────┼───────────────────┼─────────────────┤\n",
       "│ 1   │ NA              │ NA                │ NA              │\n",
       "│ 2   │ NA              │ NA                │ NA              │\n",
       "│ 3   │ NA              │ NA                │ NA              │\n",
       "│ 4   │ \"CROSBY STREET\" │ \"BROOME STREET\"   │ \"SPRING STREET\" │\n",
       "│ 5   │ \"FORDHAM RD W\"  │ \"PCRR HARLEM DIV\" │ \"UNNAMED ST\"    │\n",
       "│ 6   │ \"6 AVENUE\"      │ \"55 STREET\"       │ \"56 STREET\"     │\n",
       "\n",
       "│ Row │ Intersection_Street_1 │ Intersection_Street_2      │ Address_Type   │\n",
       "├─────┼───────────────────────┼────────────────────────────┼────────────────┤\n",
       "│ 1   │ NA                    │ NA                         │ NA             │\n",
       "│ 2   │ \"QUEENS BOULEVARD\"    │ \"56 AVENUE\"                │ \"INTERSECTION\" │\n",
       "│ 3   │ \"68 STREET\"           │ \"37 AVENUE\"                │ \"INTERSECTION\" │\n",
       "│ 4   │ NA                    │ NA                         │ \"ADDRESS\"      │\n",
       "│ 5   │ \"FORDHAM RD W\"        │ \"MAJOR DEEGAN EXPY EN N/B\" │ \"INTERSECTION\" │\n",
       "│ 6   │ NA                    │ NA                         │ \"ADDRESS\"      │\n",
       "\n",
       "│ Row │ City       │ Landmark │ Facility_Type │ Status    │\n",
       "├─────┼────────────┼──────────┼───────────────┼───────────┤\n",
       "│ 1   │ NA         │ NA       │ \"N/A\"         │ \"Closed\"  │\n",
       "│ 2   │ \"Elmhurst\" │ NA       │ \"N/A\"         │ \"Closed\"  │\n",
       "│ 3   │ \"WOODSIDE\" │ NA       │ \"Precinct\"    │ \"Closed\"  │\n",
       "│ 4   │ \"NEW YORK\" │ NA       │ \"DSNY Garage\" │ \"Closed\"  │\n",
       "│ 5   │ NA         │ NA       │ \"N/A\"         │ \"Closed\"  │\n",
       "│ 6   │ \"BROOKLYN\" │ NA       │ \"N/A\"         │ \"Started\" │\n",
       "\n",
       "│ Row │ Due_Date                 │ Resolution_Action_Updated_Date │\n",
       "├─────┼──────────────────────────┼────────────────────────────────┤\n",
       "│ 1   │ \"11/05/2013 07:04:28 AM\" │ \"10/29/2013 07:08:47 AM\"       │\n",
       "│ 2   │ NA                       │ \"10/27/2013 09:05:00 AM\"       │\n",
       "│ 3   │ \"10/15/2013 11:14:42 PM\" │ \"10/15/2013 04:42:40 PM\"       │\n",
       "│ 4   │ NA                       │ \"10/17/2013 12:00:00 PM\"       │\n",
       "│ 5   │ NA                       │ \"10/18/2013 09:01:00 AM\"       │\n",
       "│ 6   │ NA                       │ \"10/18/2013 09:14:00 AM\"       │\n",
       "\n",
       "│ Row │ Community_Board     │ Borough       │ X_Coordinate_State_Plane_ │\n",
       "├─────┼─────────────────────┼───────────────┼───────────────────────────┤\n",
       "│ 1   │ \"0 Unspecified\"     │ \"Unspecified\" │ NA                        │\n",
       "│ 2   │ \"04 QUEENS\"         │ \"QUEENS\"      │ 1019008                   │\n",
       "│ 3   │ \"02 QUEENS\"         │ \"QUEENS\"      │ 1012614                   │\n",
       "│ 4   │ \"02 MANHATTAN\"      │ \"MANHATTAN\"   │ 984723                    │\n",
       "│ 5   │ \"Unspecified BRONX\" │ \"BRONX\"       │ NA                        │\n",
       "│ 6   │ \"07 BROOKLYN\"       │ \"BROOKLYN\"    │ 981142                    │\n",
       "\n",
       "│ Row │ Y_Coordinate_State_Plane_ │ Park_Facility_Name │ Park_Borough  │\n",
       "├─────┼───────────────────────────┼────────────────────┼───────────────┤\n",
       "│ 1   │ NA                        │ \"Unspecified\"      │ \"Unspecified\" │\n",
       "│ 2   │ 206998                    │ \"Unspecified\"      │ \"QUEENS\"      │\n",
       "│ 3   │ 211959                    │ \"Unspecified\"      │ \"QUEENS\"      │\n",
       "│ 4   │ 202432                    │ \"Unspecified\"      │ \"MANHATTAN\"   │\n",
       "│ 5   │ NA                        │ \"Unspecified\"      │ \"BRONX\"       │\n",
       "│ 6   │ 172746                    │ \"Unspecified\"      │ \"BROOKLYN\"    │\n",
       "\n",
       "│ Row │ School_Name   │ School_Number │ School_Region │ School_Code   │\n",
       "├─────┼───────────────┼───────────────┼───────────────┼───────────────┤\n",
       "│ 1   │ \"Unspecified\" │ \"Unspecified\" │ \"Unspecified\" │ \"Unspecified\" │\n",
       "│ 2   │ \"Unspecified\" │ \"Unspecified\" │ \"Unspecified\" │ \"Unspecified\" │\n",
       "│ 3   │ \"Unspecified\" │ \"Unspecified\" │ \"Unspecified\" │ \"Unspecified\" │\n",
       "│ 4   │ \"Unspecified\" │ \"Unspecified\" │ \"Unspecified\" │ \"Unspecified\" │\n",
       "│ 5   │ \"Unspecified\" │ \"Unspecified\" │ \"Unspecified\" │ \"Unspecified\" │\n",
       "│ 6   │ \"Unspecified\" │ \"Unspecified\" │ \"Unspecified\" │ \"Unspecified\" │\n",
       "\n",
       "│ Row │ School_Phone_Number │ School_Address │ School_City   │ School_State  │\n",
       "├─────┼─────────────────────┼────────────────┼───────────────┼───────────────┤\n",
       "│ 1   │ \"Unspecified\"       │ \"Unspecified\"  │ \"Unspecified\" │ \"Unspecified\" │\n",
       "│ 2   │ \"Unspecified\"       │ \"Unspecified\"  │ \"Unspecified\" │ \"Unspecified\" │\n",
       "│ 3   │ \"Unspecified\"       │ \"Unspecified\"  │ \"Unspecified\" │ \"Unspecified\" │\n",
       "│ 4   │ \"Unspecified\"       │ \"Unspecified\"  │ \"Unspecified\" │ \"Unspecified\" │\n",
       "│ 5   │ \"Unspecified\"       │ \"Unspecified\"  │ \"Unspecified\" │ \"Unspecified\" │\n",
       "│ 6   │ \"Unspecified\"       │ \"Unspecified\"  │ \"Unspecified\" │ \"Unspecified\" │\n",
       "\n",
       "│ Row │ School_Zip    │ School_Not_Found │ School_or_Citywide_Complaint │\n",
       "├─────┼───────────────┼──────────────────┼──────────────────────────────┤\n",
       "│ 1   │ \"Unspecified\" │ \"N\"              │ NA                           │\n",
       "│ 2   │ \"Unspecified\" │ NA               │ NA                           │\n",
       "│ 3   │ \"Unspecified\" │ \"N\"              │ NA                           │\n",
       "│ 4   │ \"Unspecified\" │ NA               │ NA                           │\n",
       "│ 5   │ \"Unspecified\" │ NA               │ NA                           │\n",
       "│ 6   │ \"Unspecified\" │ NA               │ NA                           │\n",
       "\n",
       "│ Row │ Vehicle_Type │ Taxi_Company_Borough │ Taxi_Pick_Up_Location │\n",
       "├─────┼──────────────┼──────────────────────┼───────────────────────┤\n",
       "│ 1   │ NA           │ NA                   │ NA                    │\n",
       "│ 2   │ NA           │ NA                   │ NA                    │\n",
       "│ 3   │ NA           │ NA                   │ NA                    │\n",
       "│ 4   │ NA           │ NA                   │ NA                    │\n",
       "│ 5   │ NA           │ NA                   │ NA                    │\n",
       "│ 6   │ NA           │ NA                   │ NA                    │\n",
       "\n",
       "│ Row │ Bridge_Highway_Name │ Bridge_Highway_Direction │ Road_Ramp │\n",
       "├─────┼─────────────────────┼──────────────────────────┼───────────┤\n",
       "│ 1   │ NA                  │ NA                       │ NA        │\n",
       "│ 2   │ NA                  │ NA                       │ NA        │\n",
       "│ 3   │ NA                  │ NA                       │ NA        │\n",
       "│ 4   │ NA                  │ NA                       │ NA        │\n",
       "│ 5   │ NA                  │ NA                       │ NA        │\n",
       "│ 6   │ NA                  │ NA                       │ NA        │\n",
       "\n",
       "│ Row │ Bridge_Highway_Segment │ Garage_Lot_Name │ Ferry_Direction │\n",
       "├─────┼────────────────────────┼─────────────────┼─────────────────┤\n",
       "│ 1   │ NA                     │ NA              │ NA              │\n",
       "│ 2   │ NA                     │ NA              │ NA              │\n",
       "│ 3   │ NA                     │ NA              │ NA              │\n",
       "│ 4   │ NA                     │ NA              │ NA              │\n",
       "│ 5   │ NA                     │ NA              │ NA              │\n",
       "│ 6   │ NA                     │ NA              │ NA              │\n",
       "\n",
       "│ Row │ Ferry_Terminal_Name │ Latitude │ Longitude │\n",
       "├─────┼─────────────────────┼──────────┼───────────┤\n",
       "│ 1   │ NA                  │ NA       │ NA        │\n",
       "│ 2   │ NA                  │ 40.7348  │ -73.8746  │\n",
       "│ 3   │ NA                  │ 40.7484  │ -73.8976  │\n",
       "│ 4   │ NA                  │ 40.7223  │ -73.9983  │\n",
       "│ 5   │ NA                  │ NA       │ NA        │\n",
       "│ 6   │ NA                  │ 40.6408  │ -74.0112  │\n",
       "\n",
       "│ Row │ Location                                   │\n",
       "├─────┼────────────────────────────────────────────┤\n",
       "│ 1   │ NA                                         │\n",
       "│ 2   │ \"(40.73477005155517, -73.87458148691805)\"  │\n",
       "│ 3   │ \"(40.748409567922046, -73.89763223911132)\" │\n",
       "│ 4   │ \"(40.72230578003531, -73.99829357726031)\"  │\n",
       "│ 5   │ NA                                         │\n",
       "│ 6   │ \"(40.64082393248311, -74.01119891246094)\"  │"
      ]
     },
     "execution_count": 14,
     "metadata": {},
     "output_type": "execute_result"
    }
   ],
   "source": [
    "# random select rows\n",
    "random_half_complaints = complaints[rand(1:n_row, div(n_row, 2)), :]\n",
    "head(random_half_complaints)"
   ]
  },
  {
   "cell_type": "markdown",
   "metadata": {},
   "source": [
    "Combine all together, we can access any element or subdataframe of a dataframe"
   ]
  },
  {
   "cell_type": "code",
   "execution_count": 15,
   "metadata": {},
   "outputs": [
    {
     "data": {
      "text/plain": [
       "\"NYPD\""
      ]
     },
     "execution_count": 15,
     "metadata": {},
     "output_type": "execute_result"
    }
   ],
   "source": [
    "elm_3_4 = complaints[3,4]"
   ]
  },
  {
   "cell_type": "code",
   "execution_count": 16,
   "metadata": {},
   "outputs": [
    {
     "data": {
      "text/html": [
       "<table class=\"data-frame\"><thead><tr><th></th><th>Created_Date</th><th>Closed_Date</th><th>Descriptor</th></tr></thead><tbody><tr><th>1</th><td>10/31/2013 01:53:44 AM</td><td>NA</td><td>Condition Attracting Rodents</td></tr><tr><th>2</th><td>10/31/2013 01:46:52 AM</td><td>NA</td><td>Banging/Pounding</td></tr><tr><th>3</th><td>10/31/2013 01:46:40 AM</td><td>NA</td><td>No Access</td></tr><tr><th>4</th><td>10/31/2013 01:44:19 AM</td><td>10/31/2013 01:58:49 AM</td><td>Loud Music/Party</td></tr><tr><th>5</th><td>10/31/2013 01:44:14 AM</td><td>10/31/2013 02:28:04 AM</td><td>Loud Talking</td></tr><tr><th>6</th><td>10/31/2013 01:34:41 AM</td><td>10/31/2013 02:23:51 AM</td><td>Loud Music/Party</td></tr></tbody></table>"
      ],
      "text/plain": [
       "6×3 DataFrames.DataFrame\n",
       "│ Row │ Created_Date             │ Closed_Date              │\n",
       "├─────┼──────────────────────────┼──────────────────────────┤\n",
       "│ 1   │ \"10/31/2013 01:53:44 AM\" │ NA                       │\n",
       "│ 2   │ \"10/31/2013 01:46:52 AM\" │ NA                       │\n",
       "│ 3   │ \"10/31/2013 01:46:40 AM\" │ NA                       │\n",
       "│ 4   │ \"10/31/2013 01:44:19 AM\" │ \"10/31/2013 01:58:49 AM\" │\n",
       "│ 5   │ \"10/31/2013 01:44:14 AM\" │ \"10/31/2013 02:28:04 AM\" │\n",
       "│ 6   │ \"10/31/2013 01:34:41 AM\" │ \"10/31/2013 02:23:51 AM\" │\n",
       "\n",
       "│ Row │ Descriptor                     │\n",
       "├─────┼────────────────────────────────┤\n",
       "│ 1   │ \"Condition Attracting Rodents\" │\n",
       "│ 2   │ \"Banging/Pounding\"             │\n",
       "│ 3   │ \"No Access\"                    │\n",
       "│ 4   │ \"Loud Music/Party\"             │\n",
       "│ 5   │ \"Loud Talking\"                 │\n",
       "│ 6   │ \"Loud Music/Party\"             │"
      ]
     },
     "execution_count": 16,
     "metadata": {},
     "output_type": "execute_result"
    }
   ],
   "source": [
    "sub_df = complaints[5:10, [:Created_Date, :Closed_Date, :Descriptor]]"
   ]
  },
  {
   "cell_type": "markdown",
   "metadata": {},
   "source": [
    "## NA\n",
    "\n",
    "Before we move on to more complicated cases, let's work with the NA values first. You may have notices that there are many `NA` (Not Available, Not Applicable) values in the `complaints` dataframe. You can use `describe` function to check some basic information about a column(or the whole dataframe)."
   ]
  },
  {
   "cell_type": "code",
   "execution_count": 17,
   "metadata": {},
   "outputs": [
    {
     "name": "stdout",
     "output_type": "stream",
     "text": [
      "Summary Stats:\n",
      "Length:         111069\n",
      "Type:           String\n",
      "Number Unique:  35597\n",
      "Number Missing: 50799\n",
      "% Missing:      45.736434\n"
     ]
    }
   ],
   "source": [
    "describe(complaints[:Closed_Date])"
   ]
  },
  {
   "cell_type": "markdown",
   "metadata": {},
   "source": [
    "Another useful function is `showcols`, which will show the number of missing values:"
   ]
  },
  {
   "cell_type": "code",
   "execution_count": 18,
   "metadata": {},
   "outputs": [
    {
     "name": "stdout",
     "output_type": "stream",
     "text": [
      "111069×52 DataFrames.DataFrame\n",
      "│ Col # │ Name                           │ Eltype  │ Missing │\n",
      "├───────┼────────────────────────────────┼─────────┼─────────┤\n",
      "│ 1     │ Unique_Key                     │ Int64   │ 0       │\n",
      "│ 2     │ Created_Date                   │ String  │ 0       │\n",
      "│ 3     │ Closed_Date                    │ String  │ 50799   │\n",
      "│ 4     │ Agency                         │ String  │ 0       │\n",
      "│ 5     │ Agency_Name                    │ String  │ 0       │\n",
      "│ 6     │ Complaint_Type                 │ String  │ 0       │\n",
      "│ 7     │ Descriptor                     │ String  │ 1       │\n",
      "│ 8     │ Location_Type                  │ String  │ 32021   │\n",
      "│ 9     │ Incident_Zip                   │ String  │ 12256   │\n",
      "│ 10    │ Incident_Address               │ String  │ 26628   │\n",
      "│ 11    │ Street_Name                    │ String  │ 26631   │\n",
      "│ 12    │ Cross_Street_1                 │ String  │ 26341   │\n",
      "│ 13    │ Cross_Street_2                 │ String  │ 27064   │\n",
      "│ 14    │ Intersection_Street_1          │ String  │ 91705   │\n",
      "│ 15    │ Intersection_Street_2          │ String  │ 91703   │\n",
      "│ 16    │ Address_Type                   │ String  │ 8822    │\n",
      "│ 17    │ City                           │ String  │ 12209   │\n",
      "│ 18    │ Landmark                       │ String  │ 110974  │\n",
      "│ 19    │ Facility_Type                  │ String  │ 131     │\n",
      "│ 20    │ Status                         │ String  │ 0       │\n",
      "│ 21    │ Due_Date                       │ String  │ 71830   │\n",
      "│ 22    │ Resolution_Action_Updated_Date │ String  │ 14562   │\n",
      "│ 23    │ Community_Board                │ String  │ 0       │\n",
      "│ 24    │ Borough                        │ String  │ 0       │\n",
      "│ 25    │ X_Coordinate_State_Plane_      │ Int64   │ 12926   │\n",
      "│ 26    │ Y_Coordinate_State_Plane_      │ Int64   │ 12926   │\n",
      "│ 27    │ Park_Facility_Name             │ String  │ 0       │\n",
      "│ 28    │ Park_Borough                   │ String  │ 0       │\n",
      "│ 29    │ School_Name                    │ String  │ 0       │\n",
      "│ 30    │ School_Number                  │ String  │ 17      │\n",
      "│ 31    │ School_Region                  │ String  │ 545     │\n",
      "│ 32    │ School_Code                    │ String  │ 545     │\n",
      "│ 33    │ School_Phone_Number            │ String  │ 0       │\n",
      "│ 34    │ School_Address                 │ String  │ 0       │\n",
      "│ 35    │ School_City                    │ String  │ 0       │\n",
      "│ 36    │ School_State                   │ String  │ 0       │\n",
      "│ 37    │ School_Zip                     │ String  │ 0       │\n",
      "│ 38    │ School_Not_Found               │ String  │ 72085   │\n",
      "│ 39    │ School_or_Citywide_Complaint   │ Int64   │ 111069  │\n",
      "│ 40    │ Vehicle_Type                   │ String  │ 110970  │\n",
      "│ 41    │ Taxi_Company_Borough           │ String  │ 110952  │\n",
      "│ 42    │ Taxi_Pick_Up_Location          │ String  │ 110010  │\n",
      "│ 43    │ Bridge_Highway_Name            │ String  │ 110884  │\n",
      "│ 44    │ Bridge_Highway_Direction       │ String  │ 110884  │\n",
      "│ 45    │ Road_Ramp                      │ String  │ 110885  │\n",
      "│ 46    │ Bridge_Highway_Segment         │ String  │ 110846  │\n",
      "│ 47    │ Garage_Lot_Name                │ String  │ 111020  │\n",
      "│ 48    │ Ferry_Direction                │ String  │ 111032  │\n",
      "│ 49    │ Ferry_Terminal_Name            │ String  │ 110733  │\n",
      "│ 50    │ Latitude                       │ Float64 │ 12926   │\n",
      "│ 51    │ Longitude                      │ Float64 │ 12926   │\n",
      "│ 52    │ Location                       │ String  │ 12926   │"
     ]
    }
   ],
   "source": [
    "showcols(complaints)"
   ]
  },
  {
   "cell_type": "markdown",
   "metadata": {},
   "source": [
    "Sometimes the original CSV file contains some strings(like \"missing\",\"nan\"...). We can parse them into `NA` values by setting the `nostrings` when using `readtable` function.\n",
    "\n",
    "`NA` will make many things a little more complicate, because `NA` can not be compared or calculated."
   ]
  },
  {
   "cell_type": "code",
   "execution_count": 19,
   "metadata": {},
   "outputs": [
    {
     "data": {
      "text/plain": [
       "NA"
      ]
     },
     "execution_count": 19,
     "metadata": {},
     "output_type": "execute_result"
    }
   ],
   "source": [
    "3 == NA"
   ]
  },
  {
   "cell_type": "code",
   "execution_count": 20,
   "metadata": {},
   "outputs": [
    {
     "data": {
      "text/plain": [
       "NA"
      ]
     },
     "execution_count": 20,
     "metadata": {},
     "output_type": "execute_result"
    }
   ],
   "source": [
    "# the `@data` macro below is used to generate a DataArray\n",
    "mean(@data([1,NA,3]))"
   ]
  },
  {
   "cell_type": "markdown",
   "metadata": {},
   "source": [
    "We can use `isna` to check whether an element is `NA`"
   ]
  },
  {
   "cell_type": "code",
   "execution_count": 21,
   "metadata": {},
   "outputs": [
    {
     "name": "stdout",
     "output_type": "stream",
     "text": [
      "true\n",
      "true\n",
      "false\n"
     ]
    },
    {
     "data": {
      "text/plain": [
       "3-element BitArray{1}:\n",
       "  true\n",
       "  true\n",
       " false"
      ]
     },
     "execution_count": 21,
     "metadata": {},
     "output_type": "execute_result"
    }
   ],
   "source": [
    "println(isna(complaints[:Closed_Date], 1))\n",
    "println(isna(complaints[:Closed_Date], 2))\n",
    "println(isna(complaints[:Closed_Date], 3))\n",
    "# broadcast here\n",
    "isna.(complaints[:Closed_Date][1:3])"
   ]
  },
  {
   "cell_type": "markdown",
   "metadata": {},
   "source": [
    "## More about selecting and modifying a dataframe\n",
    "\n",
    "Modifying a dataframe's column names can be easily done by `rename!`(or `rename`). In Julia the exclamation mark usually means modify something inplace(a little similar to Clojure ;)."
   ]
  },
  {
   "cell_type": "code",
   "execution_count": 22,
   "metadata": {},
   "outputs": [
    {
     "data": {
      "text/plain": [
       "52-element Array{Symbol,1}:\n",
       " :Key                     \n",
       " :Created_Date            \n",
       " :Closed_Date             \n",
       " :Agency                  \n",
       " :Agency_Name             \n",
       " :Complaint_Type          \n",
       " :Descriptor              \n",
       " :Location_Type           \n",
       " :Incident_Zip            \n",
       " :Incident_Address        \n",
       " :Street_Name             \n",
       " :Cross_Street_1          \n",
       " :Cross_Street_2          \n",
       " ⋮                        \n",
       " :Taxi_Company_Borough    \n",
       " :Taxi_Pick_Up_Location   \n",
       " :Bridge_Highway_Name     \n",
       " :Bridge_Highway_Direction\n",
       " :Road_Ramp               \n",
       " :Bridge_Highway_Segment  \n",
       " :Garage_Lot_Name         \n",
       " :Ferry_Direction         \n",
       " :Ferry_Terminal_Name     \n",
       " :Latitude                \n",
       " :Longitude               \n",
       " :Location                "
      ]
     },
     "execution_count": 22,
     "metadata": {},
     "output_type": "execute_result"
    }
   ],
   "source": [
    "rename!(complaints, :Unique_Key, :Key)\n",
    "names(complaints)"
   ]
  },
  {
   "cell_type": "markdown",
   "metadata": {},
   "source": [
    "Modify an element of a dataframe is simply done by assignment:"
   ]
  },
  {
   "cell_type": "code",
   "execution_count": 23,
   "metadata": {},
   "outputs": [
    {
     "data": {
      "text/html": [
       "<table class=\"data-frame\"><thead><tr><th></th><th>Key</th><th>Created_Date</th><th>Closed_Date</th><th>Agency</th><th>Agency_Name</th><th>Complaint_Type</th><th>Descriptor</th><th>Location_Type</th><th>Incident_Zip</th><th>Incident_Address</th><th>Street_Name</th><th>Cross_Street_1</th><th>Cross_Street_2</th><th>Intersection_Street_1</th><th>Intersection_Street_2</th><th>Address_Type</th><th>City</th><th>Landmark</th><th>Facility_Type</th><th>Status</th><th>Due_Date</th><th>Resolution_Action_Updated_Date</th><th>Community_Board</th><th>Borough</th><th>X_Coordinate_State_Plane_</th><th>Y_Coordinate_State_Plane_</th><th>Park_Facility_Name</th><th>Park_Borough</th><th>School_Name</th><th>School_Number</th><th>School_Region</th><th>School_Code</th><th>School_Phone_Number</th><th>School_Address</th><th>School_City</th><th>School_State</th><th>School_Zip</th><th>School_Not_Found</th><th>School_or_Citywide_Complaint</th><th>Vehicle_Type</th><th>Taxi_Company_Borough</th><th>Taxi_Pick_Up_Location</th><th>Bridge_Highway_Name</th><th>Bridge_Highway_Direction</th><th>Road_Ramp</th><th>Bridge_Highway_Segment</th><th>Garage_Lot_Name</th><th>Ferry_Direction</th><th>Ferry_Terminal_Name</th><th>Latitude</th><th>Longitude</th><th>Location</th></tr></thead><tbody><tr><th>1</th><td>26594139</td><td>10/31/2013 02:00:24 AM</td><td>NA</td><td>NYPD</td><td>New York City Police Department</td><td>Noise - Commercial</td><td>Loud Music/Party</td><td>Club/Bar/Restaurant</td><td>10032</td><td>4060 BROADWAY</td><td>BROADWAY</td><td>WEST 171 STREET</td><td>WEST 172 STREET</td><td>NA</td><td>NA</td><td>ADDRESS</td><td>NEW YORK</td><td>NA</td><td>Precinct</td><td>Closed</td><td>10/31/2013 10:00:24 AM</td><td>10/31/2013 02:39:42 AM</td><td>12 MANHATTAN</td><td>MANHATTAN</td><td>1001088</td><td>246531</td><td>Unspecified</td><td>MANHATTAN</td><td>Unspecified</td><td>Unspecified</td><td>Unspecified</td><td>Unspecified</td><td>Unspecified</td><td>Unspecified</td><td>Unspecified</td><td>Unspecified</td><td>Unspecified</td><td>N</td><td>NA</td><td>NA</td><td>NA</td><td>NA</td><td>NA</td><td>NA</td><td>NA</td><td>NA</td><td>NA</td><td>NA</td><td>NA</td><td>40.84332975466513</td><td>-73.93914371913482</td><td>(40.84332975466513, -73.93914371913482)</td></tr></tbody></table>"
      ],
      "text/plain": [
       "1×52 DataFrames.DataFrame\n",
       "│ Row │ Key      │ Created_Date             │ Closed_Date │ Agency │\n",
       "├─────┼──────────┼──────────────────────────┼─────────────┼────────┤\n",
       "│ 1   │ 26594139 │ \"10/31/2013 02:00:24 AM\" │ NA          │ \"NYPD\" │\n",
       "\n",
       "│ Row │ Agency_Name                       │ Complaint_Type       │\n",
       "├─────┼───────────────────────────────────┼──────────────────────┤\n",
       "│ 1   │ \"New York City Police Department\" │ \"Noise - Commercial\" │\n",
       "\n",
       "│ Row │ Descriptor         │ Location_Type         │ Incident_Zip │\n",
       "├─────┼────────────────────┼───────────────────────┼──────────────┤\n",
       "│ 1   │ \"Loud Music/Party\" │ \"Club/Bar/Restaurant\" │ \"10032\"      │\n",
       "\n",
       "│ Row │ Incident_Address │ Street_Name │ Cross_Street_1    │ Cross_Street_2    │\n",
       "├─────┼──────────────────┼─────────────┼───────────────────┼───────────────────┤\n",
       "│ 1   │ \"4060 BROADWAY\"  │ \"BROADWAY\"  │ \"WEST 171 STREET\" │ \"WEST 172 STREET\" │\n",
       "\n",
       "│ Row │ Intersection_Street_1 │ Intersection_Street_2 │ Address_Type │\n",
       "├─────┼───────────────────────┼───────────────────────┼──────────────┤\n",
       "│ 1   │ NA                    │ NA                    │ \"ADDRESS\"    │\n",
       "\n",
       "│ Row │ City       │ Landmark │ Facility_Type │ Status   │\n",
       "├─────┼────────────┼──────────┼───────────────┼──────────┤\n",
       "│ 1   │ \"NEW YORK\" │ NA       │ \"Precinct\"    │ \"Closed\" │\n",
       "\n",
       "│ Row │ Due_Date                 │ Resolution_Action_Updated_Date │\n",
       "├─────┼──────────────────────────┼────────────────────────────────┤\n",
       "│ 1   │ \"10/31/2013 10:00:24 AM\" │ \"10/31/2013 02:39:42 AM\"       │\n",
       "\n",
       "│ Row │ Community_Board │ Borough     │ X_Coordinate_State_Plane_ │\n",
       "├─────┼─────────────────┼─────────────┼───────────────────────────┤\n",
       "│ 1   │ \"12 MANHATTAN\"  │ \"MANHATTAN\" │ 1001088                   │\n",
       "\n",
       "│ Row │ Y_Coordinate_State_Plane_ │ Park_Facility_Name │ Park_Borough │\n",
       "├─────┼───────────────────────────┼────────────────────┼──────────────┤\n",
       "│ 1   │ 246531                    │ \"Unspecified\"      │ \"MANHATTAN\"  │\n",
       "\n",
       "│ Row │ School_Name   │ School_Number │ School_Region │ School_Code   │\n",
       "├─────┼───────────────┼───────────────┼───────────────┼───────────────┤\n",
       "│ 1   │ \"Unspecified\" │ \"Unspecified\" │ \"Unspecified\" │ \"Unspecified\" │\n",
       "\n",
       "│ Row │ School_Phone_Number │ School_Address │ School_City   │ School_State  │\n",
       "├─────┼─────────────────────┼────────────────┼───────────────┼───────────────┤\n",
       "│ 1   │ \"Unspecified\"       │ \"Unspecified\"  │ \"Unspecified\" │ \"Unspecified\" │\n",
       "\n",
       "│ Row │ School_Zip    │ School_Not_Found │ School_or_Citywide_Complaint │\n",
       "├─────┼───────────────┼──────────────────┼──────────────────────────────┤\n",
       "│ 1   │ \"Unspecified\" │ \"N\"              │ NA                           │\n",
       "\n",
       "│ Row │ Vehicle_Type │ Taxi_Company_Borough │ Taxi_Pick_Up_Location │\n",
       "├─────┼──────────────┼──────────────────────┼───────────────────────┤\n",
       "│ 1   │ NA           │ NA                   │ NA                    │\n",
       "\n",
       "│ Row │ Bridge_Highway_Name │ Bridge_Highway_Direction │ Road_Ramp │\n",
       "├─────┼─────────────────────┼──────────────────────────┼───────────┤\n",
       "│ 1   │ NA                  │ NA                       │ NA        │\n",
       "\n",
       "│ Row │ Bridge_Highway_Segment │ Garage_Lot_Name │ Ferry_Direction │\n",
       "├─────┼────────────────────────┼─────────────────┼─────────────────┤\n",
       "│ 1   │ NA                     │ NA              │ NA              │\n",
       "\n",
       "│ Row │ Ferry_Terminal_Name │ Latitude │ Longitude │\n",
       "├─────┼─────────────────────┼──────────┼───────────┤\n",
       "│ 1   │ NA                  │ 40.8433  │ -73.9391  │\n",
       "\n",
       "│ Row │ Location                                  │\n",
       "├─────┼───────────────────────────────────────────┤\n",
       "│ 1   │ \"(40.84332975466513, -73.93914371913482)\" │"
      ]
     },
     "execution_count": 23,
     "metadata": {},
     "output_type": "execute_result"
    }
   ],
   "source": [
    "complaints[3, :Closed_Date] = NA\n",
    "complaints[3, :]"
   ]
  },
  {
   "cell_type": "code",
   "execution_count": 24,
   "metadata": {},
   "outputs": [
    {
     "data": {
      "text/plain": [
       "3-element DataArrays.DataArray{String,1}:\n",
       " \"10/31/2013 02:40:32 AM\"\n",
       " \"10/31/2013 02:40:32 AM\"\n",
       " \"10/31/2013 02:40:32 AM\""
      ]
     },
     "execution_count": 24,
     "metadata": {},
     "output_type": "execute_result"
    }
   ],
   "source": [
    "complaints[1:3, :Closed_Date] = @data([\"10/31/2013 02:40:32 AM\" for _ in 1:3])"
   ]
  },
  {
   "cell_type": "code",
   "execution_count": 25,
   "metadata": {},
   "outputs": [
    {
     "data": {
      "text/plain": [
       "DataFrames.DataFrame"
      ]
     },
     "execution_count": 25,
     "metadata": {},
     "output_type": "execute_result"
    }
   ],
   "source": [
    "typeof(complaints[1, [:Created_Date, :Closed_Date, :Agency]])"
   ]
  },
  {
   "cell_type": "markdown",
   "metadata": {},
   "source": [
    "Although we select only one row here, the result is a `DataFrame` but not `DataArray`. So we can just assign a new DataFrame to change the value."
   ]
  },
  {
   "cell_type": "code",
   "execution_count": 26,
   "metadata": {},
   "outputs": [
    {
     "data": {
      "text/html": [
       "<table class=\"data-frame\"><thead><tr><th></th><th>Key</th><th>Created_Date</th><th>Closed_Date</th><th>Agency</th><th>Agency_Name</th><th>Complaint_Type</th><th>Descriptor</th><th>Location_Type</th><th>Incident_Zip</th><th>Incident_Address</th><th>Street_Name</th><th>Cross_Street_1</th><th>Cross_Street_2</th><th>Intersection_Street_1</th><th>Intersection_Street_2</th><th>Address_Type</th><th>City</th><th>Landmark</th><th>Facility_Type</th><th>Status</th><th>Due_Date</th><th>Resolution_Action_Updated_Date</th><th>Community_Board</th><th>Borough</th><th>X_Coordinate_State_Plane_</th><th>Y_Coordinate_State_Plane_</th><th>Park_Facility_Name</th><th>Park_Borough</th><th>School_Name</th><th>School_Number</th><th>School_Region</th><th>School_Code</th><th>School_Phone_Number</th><th>School_Address</th><th>School_City</th><th>School_State</th><th>School_Zip</th><th>School_Not_Found</th><th>School_or_Citywide_Complaint</th><th>Vehicle_Type</th><th>Taxi_Company_Borough</th><th>Taxi_Pick_Up_Location</th><th>Bridge_Highway_Name</th><th>Bridge_Highway_Direction</th><th>Road_Ramp</th><th>Bridge_Highway_Segment</th><th>Garage_Lot_Name</th><th>Ferry_Direction</th><th>Ferry_Terminal_Name</th><th>Latitude</th><th>Longitude</th><th>Location</th></tr></thead><tbody><tr><th>1</th><td>26589651</td><td>10/31/2013 00:00:00 AM</td><td>10/31/2013 00:00:00 PM</td><td>NYPD</td><td>New York City Police Department</td><td>Noise - Street/Sidewalk</td><td>Loud Talking</td><td>Street/Sidewalk</td><td>11432</td><td>90-03 169 STREET</td><td>169 STREET</td><td>90 AVENUE</td><td>91 AVENUE</td><td>NA</td><td>NA</td><td>ADDRESS</td><td>JAMAICA</td><td>NA</td><td>Precinct</td><td>Assigned</td><td>10/31/2013 10:08:41 AM</td><td>10/31/2013 02:35:17 AM</td><td>12 QUEENS</td><td>QUEENS</td><td>1042027</td><td>197389</td><td>Unspecified</td><td>QUEENS</td><td>Unspecified</td><td>Unspecified</td><td>Unspecified</td><td>Unspecified</td><td>Unspecified</td><td>Unspecified</td><td>Unspecified</td><td>Unspecified</td><td>Unspecified</td><td>N</td><td>NA</td><td>NA</td><td>NA</td><td>NA</td><td>NA</td><td>NA</td><td>NA</td><td>NA</td><td>NA</td><td>NA</td><td>NA</td><td>40.70827532593202</td><td>-73.79160395779721</td><td>(40.70827532593202, -73.79160395779721)</td></tr></tbody></table>"
      ],
      "text/plain": [
       "1×52 DataFrames.DataFrame\n",
       "│ Row │ Key      │ Created_Date             │ Closed_Date              │\n",
       "├─────┼──────────┼──────────────────────────┼──────────────────────────┤\n",
       "│ 1   │ 26589651 │ \"10/31/2013 00:00:00 AM\" │ \"10/31/2013 00:00:00 PM\" │\n",
       "\n",
       "│ Row │ Agency │ Agency_Name                       │ Complaint_Type            │\n",
       "├─────┼────────┼───────────────────────────────────┼───────────────────────────┤\n",
       "│ 1   │ \"NYPD\" │ \"New York City Police Department\" │ \"Noise - Street/Sidewalk\" │\n",
       "\n",
       "│ Row │ Descriptor     │ Location_Type     │ Incident_Zip │ Incident_Address   │\n",
       "├─────┼────────────────┼───────────────────┼──────────────┼────────────────────┤\n",
       "│ 1   │ \"Loud Talking\" │ \"Street/Sidewalk\" │ \"11432\"      │ \"90-03 169 STREET\" │\n",
       "\n",
       "│ Row │ Street_Name  │ Cross_Street_1 │ Cross_Street_2 │ Intersection_Street_1 │\n",
       "├─────┼──────────────┼────────────────┼────────────────┼───────────────────────┤\n",
       "│ 1   │ \"169 STREET\" │ \"90 AVENUE\"    │ \"91 AVENUE\"    │ NA                    │\n",
       "\n",
       "│ Row │ Intersection_Street_2 │ Address_Type │ City      │ Landmark │\n",
       "├─────┼───────────────────────┼──────────────┼───────────┼──────────┤\n",
       "│ 1   │ NA                    │ \"ADDRESS\"    │ \"JAMAICA\" │ NA       │\n",
       "\n",
       "│ Row │ Facility_Type │ Status     │ Due_Date                 │\n",
       "├─────┼───────────────┼────────────┼──────────────────────────┤\n",
       "│ 1   │ \"Precinct\"    │ \"Assigned\" │ \"10/31/2013 10:08:41 AM\" │\n",
       "\n",
       "│ Row │ Resolution_Action_Updated_Date │ Community_Board │ Borough  │\n",
       "├─────┼────────────────────────────────┼─────────────────┼──────────┤\n",
       "│ 1   │ \"10/31/2013 02:35:17 AM\"       │ \"12 QUEENS\"     │ \"QUEENS\" │\n",
       "\n",
       "│ Row │ X_Coordinate_State_Plane_ │ Y_Coordinate_State_Plane_ │\n",
       "├─────┼───────────────────────────┼───────────────────────────┤\n",
       "│ 1   │ 1042027                   │ 197389                    │\n",
       "\n",
       "│ Row │ Park_Facility_Name │ Park_Borough │ School_Name   │ School_Number │\n",
       "├─────┼────────────────────┼──────────────┼───────────────┼───────────────┤\n",
       "│ 1   │ \"Unspecified\"      │ \"QUEENS\"     │ \"Unspecified\" │ \"Unspecified\" │\n",
       "\n",
       "│ Row │ School_Region │ School_Code   │ School_Phone_Number │ School_Address │\n",
       "├─────┼───────────────┼───────────────┼─────────────────────┼────────────────┤\n",
       "│ 1   │ \"Unspecified\" │ \"Unspecified\" │ \"Unspecified\"       │ \"Unspecified\"  │\n",
       "\n",
       "│ Row │ School_City   │ School_State  │ School_Zip    │ School_Not_Found │\n",
       "├─────┼───────────────┼───────────────┼───────────────┼──────────────────┤\n",
       "│ 1   │ \"Unspecified\" │ \"Unspecified\" │ \"Unspecified\" │ \"N\"              │\n",
       "\n",
       "│ Row │ School_or_Citywide_Complaint │ Vehicle_Type │ Taxi_Company_Borough │\n",
       "├─────┼──────────────────────────────┼──────────────┼──────────────────────┤\n",
       "│ 1   │ NA                           │ NA           │ NA                   │\n",
       "\n",
       "│ Row │ Taxi_Pick_Up_Location │ Bridge_Highway_Name │ Bridge_Highway_Direction │\n",
       "├─────┼───────────────────────┼─────────────────────┼──────────────────────────┤\n",
       "│ 1   │ NA                    │ NA                  │ NA                       │\n",
       "\n",
       "│ Row │ Road_Ramp │ Bridge_Highway_Segment │ Garage_Lot_Name │ Ferry_Direction │\n",
       "├─────┼───────────┼────────────────────────┼─────────────────┼─────────────────┤\n",
       "│ 1   │ NA        │ NA                     │ NA              │ NA              │\n",
       "\n",
       "│ Row │ Ferry_Terminal_Name │ Latitude │ Longitude │\n",
       "├─────┼─────────────────────┼──────────┼───────────┤\n",
       "│ 1   │ NA                  │ 40.7083  │ -73.7916  │\n",
       "\n",
       "│ Row │ Location                                  │\n",
       "├─────┼───────────────────────────────────────────┤\n",
       "│ 1   │ \"(40.70827532593202, -73.79160395779721)\" │"
      ]
     },
     "execution_count": 26,
     "metadata": {},
     "output_type": "execute_result"
    }
   ],
   "source": [
    "complaints[1, [:Created_Date, :Closed_Date, :Agency]] = DataFrame(Created_Date=\"10/31/2013 00:00:00 AM\", Closed_Date=\"10/31/2013 00:00:00 PM\", Agency=\"NYPD\")\n",
    "complaints[1, :]"
   ]
  },
  {
   "cell_type": "markdown",
   "metadata": {},
   "source": [
    "## Selecting based on sepecific conditions\n",
    "\n",
    "Usually we select rows based on some interesting conditions but not indexes directly. Like Pandas, we can pass a bool array to select rows."
   ]
  },
  {
   "cell_type": "code",
   "execution_count": 27,
   "metadata": {},
   "outputs": [
    {
     "data": {
      "text/plain": [
       "111069-element DataArrays.DataArray{String,1}:\n",
       " \"JAMAICA\"            \n",
       " \"MASPETH\"            \n",
       " \"NEW YORK\"           \n",
       " \"NEW YORK\"           \n",
       " \"NEW YORK\"           \n",
       " \"JACKSON HEIGHTS\"    \n",
       " \"SOUTH RICHMOND HILL\"\n",
       " \"OZONE PARK\"         \n",
       " \"NEW YORK\"           \n",
       " \"BROOKLYN\"           \n",
       " \"BROOKLYN\"           \n",
       " \"NEW YORK\"           \n",
       " \"NEW YORK\"           \n",
       " ⋮                    \n",
       " \"NEW YORK\"           \n",
       " \"BROOKLYN\"           \n",
       " \"NEW YORK\"           \n",
       " \"NEW YORK\"           \n",
       " \"ASTORIA\"            \n",
       " \"NEW YORK\"           \n",
       " \"NEW YORK\"           \n",
       " \"BROOKLYN\"           \n",
       " \"JAMAICA\"            \n",
       " \"NEW YORK\"           \n",
       " \"BROOKLYN\"           \n",
       " \"BROOKLYN\"           "
      ]
     },
     "execution_count": 27,
     "metadata": {},
     "output_type": "execute_result"
    }
   ],
   "source": [
    "complaints[:City]"
   ]
  },
  {
   "cell_type": "code",
   "execution_count": 28,
   "metadata": {},
   "outputs": [
    {
     "data": {
      "text/plain": [
       "(41102, 52)"
      ]
     },
     "execution_count": 28,
     "metadata": {},
     "output_type": "execute_result"
    }
   ],
   "source": [
    "# select complaints at NEW YORK or BRONX\n",
    "is_known_cities = map(x -> isna(x) ? false :  (x ∈ [\"NEW YORK\", \"BRONX\"]), complaints[:City])\n",
    "size(complaints[is_known_cities, :])"
   ]
  },
  {
   "cell_type": "code",
   "execution_count": 29,
   "metadata": {},
   "outputs": [
    {
     "data": {
      "text/plain": [
       "1928"
      ]
     },
     "execution_count": 29,
     "metadata": {},
     "output_type": "execute_result"
    }
   ],
   "source": [
    "# Selecting only noise complaints.\n",
    "is_noise = complaints[:Complaint_Type] .== \"Noise - Street/Sidewalk\"\n",
    "noise_complaints = complaints[is_noise, :]\n",
    "nrow(noise_complaints)"
   ]
  },
  {
   "cell_type": "markdown",
   "metadata": {},
   "source": [
    "> When we index our dataframe with this array, we get just the rows where our boolean array evaluated to True. It's important to note that for row filtering by a boolean array the length of our dataframe's index must be the same length as the boolean array used for filtering.\n",
    "\n",
    "You can combine two conditions together:"
   ]
  },
  {
   "cell_type": "code",
   "execution_count": 30,
   "metadata": {
    "scrolled": false
   },
   "outputs": [
    {
     "data": {
      "text/html": [
       "<table class=\"data-frame\"><thead><tr><th></th><th>Key</th><th>Created_Date</th><th>Closed_Date</th><th>Agency</th><th>Agency_Name</th><th>Complaint_Type</th><th>Descriptor</th><th>Location_Type</th><th>Incident_Zip</th><th>Incident_Address</th><th>Street_Name</th><th>Cross_Street_1</th><th>Cross_Street_2</th><th>Intersection_Street_1</th><th>Intersection_Street_2</th><th>Address_Type</th><th>City</th><th>Landmark</th><th>Facility_Type</th><th>Status</th><th>Due_Date</th><th>Resolution_Action_Updated_Date</th><th>Community_Board</th><th>Borough</th><th>X_Coordinate_State_Plane_</th><th>Y_Coordinate_State_Plane_</th><th>Park_Facility_Name</th><th>Park_Borough</th><th>School_Name</th><th>School_Number</th><th>School_Region</th><th>School_Code</th><th>School_Phone_Number</th><th>School_Address</th><th>School_City</th><th>School_State</th><th>School_Zip</th><th>School_Not_Found</th><th>School_or_Citywide_Complaint</th><th>Vehicle_Type</th><th>Taxi_Company_Borough</th><th>Taxi_Pick_Up_Location</th><th>Bridge_Highway_Name</th><th>Bridge_Highway_Direction</th><th>Road_Ramp</th><th>Bridge_Highway_Segment</th><th>Garage_Lot_Name</th><th>Ferry_Direction</th><th>Ferry_Terminal_Name</th><th>Latitude</th><th>Longitude</th><th>Location</th></tr></thead><tbody><tr><th>1</th><td>26594085</td><td>10/31/2013 12:32:08 AM</td><td>NA</td><td>NYPD</td><td>New York City Police Department</td><td>Noise - Street/Sidewalk</td><td>Loud Talking</td><td>Street/Sidewalk</td><td>10026</td><td>121 WEST 116 STREET</td><td>WEST 116 STREET</td><td>LENOX AVENUE</td><td>7 AVENUE</td><td>NA</td><td>NA</td><td>ADDRESS</td><td>NEW YORK</td><td>NA</td><td>Precinct</td><td>Assigned</td><td>10/31/2013 08:32:08 AM</td><td>10/31/2013 02:00:57 AM</td><td>10 MANHATTAN</td><td>MANHATTAN</td><td>997947</td><td>231613</td><td>Unspecified</td><td>MANHATTAN</td><td>Unspecified</td><td>Unspecified</td><td>Unspecified</td><td>Unspecified</td><td>Unspecified</td><td>Unspecified</td><td>Unspecified</td><td>Unspecified</td><td>Unspecified</td><td>N</td><td>NA</td><td>NA</td><td>NA</td><td>NA</td><td>NA</td><td>NA</td><td>NA</td><td>NA</td><td>NA</td><td>NA</td><td>NA</td><td>40.80238950799943</td><td>-73.95052644123253</td><td>(40.80238950799943, -73.95052644123253)</td></tr><tr><th>2</th><td>26590446</td><td>10/31/2013 12:11:58 AM</td><td>10/31/2013 01:54:38 AM</td><td>NYPD</td><td>New York City Police Department</td><td>Noise - Street/Sidewalk</td><td>Loud Music/Party</td><td>Street/Sidewalk</td><td>10459</td><td>819 EAST 167 STREET</td><td>EAST 167 STREET</td><td>UNION AVENUE</td><td>PROSPECT AVENUE</td><td>NA</td><td>NA</td><td>ADDRESS</td><td>BRONX</td><td>NA</td><td>Precinct</td><td>Closed</td><td>10/31/2013 08:11:58 AM</td><td>10/31/2013 01:54:38 AM</td><td>03 BRONX</td><td>BRONX</td><td>1011935</td><td>240454</td><td>Unspecified</td><td>BRONX</td><td>Unspecified</td><td>Unspecified</td><td>Unspecified</td><td>Unspecified</td><td>Unspecified</td><td>Unspecified</td><td>Unspecified</td><td>Unspecified</td><td>Unspecified</td><td>N</td><td>NA</td><td>NA</td><td>NA</td><td>NA</td><td>NA</td><td>NA</td><td>NA</td><td>NA</td><td>NA</td><td>NA</td><td>NA</td><td>40.826622810177874</td><td>-73.8999653556452</td><td>(40.826622810177874, -73.8999653556452)</td></tr><tr><th>3</th><td>26590695</td><td>10/30/2013 11:40:52 PM</td><td>NA</td><td>NYPD</td><td>New York City Police Department</td><td>Noise - Street/Sidewalk</td><td>Loud Talking</td><td>Street/Sidewalk</td><td>10027</td><td>449 WEST 125 STREET</td><td>WEST 125 STREET</td><td>BEND</td><td>AMSTERDAM AVENUE</td><td>NA</td><td>NA</td><td>ADDRESS</td><td>NEW YORK</td><td>NA</td><td>Precinct</td><td>Assigned</td><td>10/31/2013 07:40:52 AM</td><td>10/30/2013 11:49:41 PM</td><td>09 MANHATTAN</td><td>MANHATTAN</td><td>996519</td><td>235375</td><td>Unspecified</td><td>MANHATTAN</td><td>Unspecified</td><td>Unspecified</td><td>Unspecified</td><td>Unspecified</td><td>Unspecified</td><td>Unspecified</td><td>Unspecified</td><td>Unspecified</td><td>Unspecified</td><td>N</td><td>NA</td><td>NA</td><td>NA</td><td>NA</td><td>NA</td><td>NA</td><td>NA</td><td>NA</td><td>NA</td><td>NA</td><td>NA</td><td>40.81271725522785</td><td>-73.95567750031833</td><td>(40.81271725522785, -73.95567750031833)</td></tr><tr><th>4</th><td>26594760</td><td>10/30/2013 11:17:43 PM</td><td>10/31/2013 01:05:43 AM</td><td>NYPD</td><td>New York City Police Department</td><td>Noise - Street/Sidewalk</td><td>Loud Music/Party</td><td>Street/Sidewalk</td><td>10005</td><td>67 WALL STREET</td><td>WALL STREET</td><td>HANOVER STREET</td><td>PEARL STREET</td><td>NA</td><td>NA</td><td>ADDRESS</td><td>NEW YORK</td><td>NA</td><td>Precinct</td><td>Closed</td><td>10/31/2013 07:17:43 AM</td><td>10/31/2013 01:05:43 AM</td><td>01 MANHATTAN</td><td>MANHATTAN</td><td>981937</td><td>196400</td><td>Unspecified</td><td>MANHATTAN</td><td>Unspecified</td><td>Unspecified</td><td>Unspecified</td><td>Unspecified</td><td>Unspecified</td><td>Unspecified</td><td>Unspecified</td><td>Unspecified</td><td>Unspecified</td><td>N</td><td>NA</td><td>NA</td><td>NA</td><td>NA</td><td>NA</td><td>NA</td><td>NA</td><td>NA</td><td>NA</td><td>NA</td><td>NA</td><td>40.70574909022401</td><td>-74.00834244292587</td><td>(40.70574909022401, -74.00834244292587)</td></tr><tr><th>5</th><td>26593220</td><td>10/30/2013 11:14:15 PM</td><td>10/31/2013 01:28:20 AM</td><td>NYPD</td><td>New York City Police Department</td><td>Noise - Street/Sidewalk</td><td>Loud Music/Party</td><td>Street/Sidewalk</td><td>10012</td><td>2 SPRING STREET</td><td>SPRING STREET</td><td>BOWERY</td><td>ELIZABETH STREET</td><td>NA</td><td>NA</td><td>ADDRESS</td><td>NEW YORK</td><td>NA</td><td>Precinct</td><td>Closed</td><td>10/31/2013 07:14:15 AM</td><td>10/31/2013 01:28:20 AM</td><td>02 MANHATTAN</td><td>MANHATTAN</td><td>985916</td><td>201958</td><td>Unspecified</td><td>MANHATTAN</td><td>Unspecified</td><td>Unspecified</td><td>Unspecified</td><td>Unspecified</td><td>Unspecified</td><td>Unspecified</td><td>Unspecified</td><td>Unspecified</td><td>Unspecified</td><td>N</td><td>NA</td><td>NA</td><td>NA</td><td>NA</td><td>NA</td><td>NA</td><td>NA</td><td>NA</td><td>NA</td><td>NA</td><td>NA</td><td>40.721004620274186</td><td>-73.99398975732854</td><td>(40.721004620274186, -73.99398975732854)</td></tr><tr><th>6</th><td>26590217</td><td>10/30/2013 11:11:28 PM</td><td>10/31/2013 01:29:28 AM</td><td>NYPD</td><td>New York City Police Department</td><td>Noise - Street/Sidewalk</td><td>Loud Talking</td><td>Street/Sidewalk</td><td>10003</td><td>24 EAST 11 STREET</td><td>EAST 11 STREET</td><td>5 AVENUE</td><td>UNIVERSITY PLACE</td><td>NA</td><td>NA</td><td>ADDRESS</td><td>NEW YORK</td><td>NA</td><td>Precinct</td><td>Closed</td><td>10/31/2013 07:11:28 AM</td><td>10/31/2013 01:29:28 AM</td><td>02 MANHATTAN</td><td>MANHATTAN</td><td>985909</td><td>206542</td><td>Unspecified</td><td>MANHATTAN</td><td>Unspecified</td><td>Unspecified</td><td>Unspecified</td><td>Unspecified</td><td>Unspecified</td><td>Unspecified</td><td>Unspecified</td><td>Unspecified</td><td>Unspecified</td><td>N</td><td>NA</td><td>NA</td><td>NA</td><td>NA</td><td>NA</td><td>NA</td><td>NA</td><td>NA</td><td>NA</td><td>NA</td><td>NA</td><td>40.73358658490167</td><td>-73.99401388034954</td><td>(40.73358658490167, -73.99401388034954)</td></tr></tbody></table>"
      ],
      "text/plain": [
       "6×52 DataFrames.DataFrame\n",
       "│ Row │ Key      │ Created_Date             │ Closed_Date              │\n",
       "├─────┼──────────┼──────────────────────────┼──────────────────────────┤\n",
       "│ 1   │ 26594085 │ \"10/31/2013 12:32:08 AM\" │ NA                       │\n",
       "│ 2   │ 26590446 │ \"10/31/2013 12:11:58 AM\" │ \"10/31/2013 01:54:38 AM\" │\n",
       "│ 3   │ 26590695 │ \"10/30/2013 11:40:52 PM\" │ NA                       │\n",
       "│ 4   │ 26594760 │ \"10/30/2013 11:17:43 PM\" │ \"10/31/2013 01:05:43 AM\" │\n",
       "│ 5   │ 26593220 │ \"10/30/2013 11:14:15 PM\" │ \"10/31/2013 01:28:20 AM\" │\n",
       "│ 6   │ 26590217 │ \"10/30/2013 11:11:28 PM\" │ \"10/31/2013 01:29:28 AM\" │\n",
       "\n",
       "│ Row │ Agency │ Agency_Name                       │ Complaint_Type            │\n",
       "├─────┼────────┼───────────────────────────────────┼───────────────────────────┤\n",
       "│ 1   │ \"NYPD\" │ \"New York City Police Department\" │ \"Noise - Street/Sidewalk\" │\n",
       "│ 2   │ \"NYPD\" │ \"New York City Police Department\" │ \"Noise - Street/Sidewalk\" │\n",
       "│ 3   │ \"NYPD\" │ \"New York City Police Department\" │ \"Noise - Street/Sidewalk\" │\n",
       "│ 4   │ \"NYPD\" │ \"New York City Police Department\" │ \"Noise - Street/Sidewalk\" │\n",
       "│ 5   │ \"NYPD\" │ \"New York City Police Department\" │ \"Noise - Street/Sidewalk\" │\n",
       "│ 6   │ \"NYPD\" │ \"New York City Police Department\" │ \"Noise - Street/Sidewalk\" │\n",
       "\n",
       "│ Row │ Descriptor         │ Location_Type     │ Incident_Zip │\n",
       "├─────┼────────────────────┼───────────────────┼──────────────┤\n",
       "│ 1   │ \"Loud Talking\"     │ \"Street/Sidewalk\" │ \"10026\"      │\n",
       "│ 2   │ \"Loud Music/Party\" │ \"Street/Sidewalk\" │ \"10459\"      │\n",
       "│ 3   │ \"Loud Talking\"     │ \"Street/Sidewalk\" │ \"10027\"      │\n",
       "│ 4   │ \"Loud Music/Party\" │ \"Street/Sidewalk\" │ \"10005\"      │\n",
       "│ 5   │ \"Loud Music/Party\" │ \"Street/Sidewalk\" │ \"10012\"      │\n",
       "│ 6   │ \"Loud Talking\"     │ \"Street/Sidewalk\" │ \"10003\"      │\n",
       "\n",
       "│ Row │ Incident_Address      │ Street_Name       │ Cross_Street_1   │\n",
       "├─────┼───────────────────────┼───────────────────┼──────────────────┤\n",
       "│ 1   │ \"121 WEST 116 STREET\" │ \"WEST 116 STREET\" │ \"LENOX AVENUE\"   │\n",
       "│ 2   │ \"819 EAST 167 STREET\" │ \"EAST 167 STREET\" │ \"UNION AVENUE\"   │\n",
       "│ 3   │ \"449 WEST 125 STREET\" │ \"WEST 125 STREET\" │ \"BEND\"           │\n",
       "│ 4   │ \"67 WALL STREET\"      │ \"WALL STREET\"     │ \"HANOVER STREET\" │\n",
       "│ 5   │ \"2 SPRING STREET\"     │ \"SPRING STREET\"   │ \"BOWERY\"         │\n",
       "│ 6   │ \"24 EAST 11 STREET\"   │ \"EAST 11 STREET\"  │ \"5 AVENUE\"       │\n",
       "\n",
       "│ Row │ Cross_Street_2     │ Intersection_Street_1 │ Intersection_Street_2 │\n",
       "├─────┼────────────────────┼───────────────────────┼───────────────────────┤\n",
       "│ 1   │ \"7 AVENUE\"         │ NA                    │ NA                    │\n",
       "│ 2   │ \"PROSPECT AVENUE\"  │ NA                    │ NA                    │\n",
       "│ 3   │ \"AMSTERDAM AVENUE\" │ NA                    │ NA                    │\n",
       "│ 4   │ \"PEARL STREET\"     │ NA                    │ NA                    │\n",
       "│ 5   │ \"ELIZABETH STREET\" │ NA                    │ NA                    │\n",
       "│ 6   │ \"UNIVERSITY PLACE\" │ NA                    │ NA                    │\n",
       "\n",
       "│ Row │ Address_Type │ City       │ Landmark │ Facility_Type │ Status     │\n",
       "├─────┼──────────────┼────────────┼──────────┼───────────────┼────────────┤\n",
       "│ 1   │ \"ADDRESS\"    │ \"NEW YORK\" │ NA       │ \"Precinct\"    │ \"Assigned\" │\n",
       "│ 2   │ \"ADDRESS\"    │ \"BRONX\"    │ NA       │ \"Precinct\"    │ \"Closed\"   │\n",
       "│ 3   │ \"ADDRESS\"    │ \"NEW YORK\" │ NA       │ \"Precinct\"    │ \"Assigned\" │\n",
       "│ 4   │ \"ADDRESS\"    │ \"NEW YORK\" │ NA       │ \"Precinct\"    │ \"Closed\"   │\n",
       "│ 5   │ \"ADDRESS\"    │ \"NEW YORK\" │ NA       │ \"Precinct\"    │ \"Closed\"   │\n",
       "│ 6   │ \"ADDRESS\"    │ \"NEW YORK\" │ NA       │ \"Precinct\"    │ \"Closed\"   │\n",
       "\n",
       "│ Row │ Due_Date                 │ Resolution_Action_Updated_Date │\n",
       "├─────┼──────────────────────────┼────────────────────────────────┤\n",
       "│ 1   │ \"10/31/2013 08:32:08 AM\" │ \"10/31/2013 02:00:57 AM\"       │\n",
       "│ 2   │ \"10/31/2013 08:11:58 AM\" │ \"10/31/2013 01:54:38 AM\"       │\n",
       "│ 3   │ \"10/31/2013 07:40:52 AM\" │ \"10/30/2013 11:49:41 PM\"       │\n",
       "│ 4   │ \"10/31/2013 07:17:43 AM\" │ \"10/31/2013 01:05:43 AM\"       │\n",
       "│ 5   │ \"10/31/2013 07:14:15 AM\" │ \"10/31/2013 01:28:20 AM\"       │\n",
       "│ 6   │ \"10/31/2013 07:11:28 AM\" │ \"10/31/2013 01:29:28 AM\"       │\n",
       "\n",
       "│ Row │ Community_Board │ Borough     │ X_Coordinate_State_Plane_ │\n",
       "├─────┼─────────────────┼─────────────┼───────────────────────────┤\n",
       "│ 1   │ \"10 MANHATTAN\"  │ \"MANHATTAN\" │ 997947                    │\n",
       "│ 2   │ \"03 BRONX\"      │ \"BRONX\"     │ 1011935                   │\n",
       "│ 3   │ \"09 MANHATTAN\"  │ \"MANHATTAN\" │ 996519                    │\n",
       "│ 4   │ \"01 MANHATTAN\"  │ \"MANHATTAN\" │ 981937                    │\n",
       "│ 5   │ \"02 MANHATTAN\"  │ \"MANHATTAN\" │ 985916                    │\n",
       "│ 6   │ \"02 MANHATTAN\"  │ \"MANHATTAN\" │ 985909                    │\n",
       "\n",
       "│ Row │ Y_Coordinate_State_Plane_ │ Park_Facility_Name │ Park_Borough │\n",
       "├─────┼───────────────────────────┼────────────────────┼──────────────┤\n",
       "│ 1   │ 231613                    │ \"Unspecified\"      │ \"MANHATTAN\"  │\n",
       "│ 2   │ 240454                    │ \"Unspecified\"      │ \"BRONX\"      │\n",
       "│ 3   │ 235375                    │ \"Unspecified\"      │ \"MANHATTAN\"  │\n",
       "│ 4   │ 196400                    │ \"Unspecified\"      │ \"MANHATTAN\"  │\n",
       "│ 5   │ 201958                    │ \"Unspecified\"      │ \"MANHATTAN\"  │\n",
       "│ 6   │ 206542                    │ \"Unspecified\"      │ \"MANHATTAN\"  │\n",
       "\n",
       "│ Row │ School_Name   │ School_Number │ School_Region │ School_Code   │\n",
       "├─────┼───────────────┼───────────────┼───────────────┼───────────────┤\n",
       "│ 1   │ \"Unspecified\" │ \"Unspecified\" │ \"Unspecified\" │ \"Unspecified\" │\n",
       "│ 2   │ \"Unspecified\" │ \"Unspecified\" │ \"Unspecified\" │ \"Unspecified\" │\n",
       "│ 3   │ \"Unspecified\" │ \"Unspecified\" │ \"Unspecified\" │ \"Unspecified\" │\n",
       "│ 4   │ \"Unspecified\" │ \"Unspecified\" │ \"Unspecified\" │ \"Unspecified\" │\n",
       "│ 5   │ \"Unspecified\" │ \"Unspecified\" │ \"Unspecified\" │ \"Unspecified\" │\n",
       "│ 6   │ \"Unspecified\" │ \"Unspecified\" │ \"Unspecified\" │ \"Unspecified\" │\n",
       "\n",
       "│ Row │ School_Phone_Number │ School_Address │ School_City   │ School_State  │\n",
       "├─────┼─────────────────────┼────────────────┼───────────────┼───────────────┤\n",
       "│ 1   │ \"Unspecified\"       │ \"Unspecified\"  │ \"Unspecified\" │ \"Unspecified\" │\n",
       "│ 2   │ \"Unspecified\"       │ \"Unspecified\"  │ \"Unspecified\" │ \"Unspecified\" │\n",
       "│ 3   │ \"Unspecified\"       │ \"Unspecified\"  │ \"Unspecified\" │ \"Unspecified\" │\n",
       "│ 4   │ \"Unspecified\"       │ \"Unspecified\"  │ \"Unspecified\" │ \"Unspecified\" │\n",
       "│ 5   │ \"Unspecified\"       │ \"Unspecified\"  │ \"Unspecified\" │ \"Unspecified\" │\n",
       "│ 6   │ \"Unspecified\"       │ \"Unspecified\"  │ \"Unspecified\" │ \"Unspecified\" │\n",
       "\n",
       "│ Row │ School_Zip    │ School_Not_Found │ School_or_Citywide_Complaint │\n",
       "├─────┼───────────────┼──────────────────┼──────────────────────────────┤\n",
       "│ 1   │ \"Unspecified\" │ \"N\"              │ NA                           │\n",
       "│ 2   │ \"Unspecified\" │ \"N\"              │ NA                           │\n",
       "│ 3   │ \"Unspecified\" │ \"N\"              │ NA                           │\n",
       "│ 4   │ \"Unspecified\" │ \"N\"              │ NA                           │\n",
       "│ 5   │ \"Unspecified\" │ \"N\"              │ NA                           │\n",
       "│ 6   │ \"Unspecified\" │ \"N\"              │ NA                           │\n",
       "\n",
       "│ Row │ Vehicle_Type │ Taxi_Company_Borough │ Taxi_Pick_Up_Location │\n",
       "├─────┼──────────────┼──────────────────────┼───────────────────────┤\n",
       "│ 1   │ NA           │ NA                   │ NA                    │\n",
       "│ 2   │ NA           │ NA                   │ NA                    │\n",
       "│ 3   │ NA           │ NA                   │ NA                    │\n",
       "│ 4   │ NA           │ NA                   │ NA                    │\n",
       "│ 5   │ NA           │ NA                   │ NA                    │\n",
       "│ 6   │ NA           │ NA                   │ NA                    │\n",
       "\n",
       "│ Row │ Bridge_Highway_Name │ Bridge_Highway_Direction │ Road_Ramp │\n",
       "├─────┼─────────────────────┼──────────────────────────┼───────────┤\n",
       "│ 1   │ NA                  │ NA                       │ NA        │\n",
       "│ 2   │ NA                  │ NA                       │ NA        │\n",
       "│ 3   │ NA                  │ NA                       │ NA        │\n",
       "│ 4   │ NA                  │ NA                       │ NA        │\n",
       "│ 5   │ NA                  │ NA                       │ NA        │\n",
       "│ 6   │ NA                  │ NA                       │ NA        │\n",
       "\n",
       "│ Row │ Bridge_Highway_Segment │ Garage_Lot_Name │ Ferry_Direction │\n",
       "├─────┼────────────────────────┼─────────────────┼─────────────────┤\n",
       "│ 1   │ NA                     │ NA              │ NA              │\n",
       "│ 2   │ NA                     │ NA              │ NA              │\n",
       "│ 3   │ NA                     │ NA              │ NA              │\n",
       "│ 4   │ NA                     │ NA              │ NA              │\n",
       "│ 5   │ NA                     │ NA              │ NA              │\n",
       "│ 6   │ NA                     │ NA              │ NA              │\n",
       "\n",
       "│ Row │ Ferry_Terminal_Name │ Latitude │ Longitude │\n",
       "├─────┼─────────────────────┼──────────┼───────────┤\n",
       "│ 1   │ NA                  │ 40.8024  │ -73.9505  │\n",
       "│ 2   │ NA                  │ 40.8266  │ -73.9     │\n",
       "│ 3   │ NA                  │ 40.8127  │ -73.9557  │\n",
       "│ 4   │ NA                  │ 40.7057  │ -74.0083  │\n",
       "│ 5   │ NA                  │ 40.721   │ -73.994   │\n",
       "│ 6   │ NA                  │ 40.7336  │ -73.994   │\n",
       "\n",
       "│ Row │ Location                                   │\n",
       "├─────┼────────────────────────────────────────────┤\n",
       "│ 1   │ \"(40.80238950799943, -73.95052644123253)\"  │\n",
       "│ 2   │ \"(40.826622810177874, -73.8999653556452)\"  │\n",
       "│ 3   │ \"(40.81271725522785, -73.95567750031833)\"  │\n",
       "│ 4   │ \"(40.70574909022401, -74.00834244292587)\"  │\n",
       "│ 5   │ \"(40.721004620274186, -73.99398975732854)\" │\n",
       "│ 6   │ \"(40.73358658490167, -73.99401388034954)\"  │"
      ]
     },
     "execution_count": 30,
     "metadata": {},
     "output_type": "execute_result"
    }
   ],
   "source": [
    "head(complaints[is_known_cities .& is_noise, :])"
   ]
  },
  {
   "cell_type": "markdown",
   "metadata": {},
   "source": [
    "## Add/delete a column/row"
   ]
  },
  {
   "cell_type": "code",
   "execution_count": 31,
   "metadata": {},
   "outputs": [
    {
     "data": {
      "text/plain": [
       "111069-element Array{String,1}:\n",
       " \"10/31/2013 00:00:00 AM ~ 10/31/2013 00:00:00 PM\"\n",
       " \"10/31/2013 02:01:04 AM ~ 10/31/2013 02:40:32 AM\"\n",
       " \"10/31/2013 02:00:24 AM ~ 10/31/2013 02:40:32 AM\"\n",
       " \"10/31/2013 01:56:23 AM ~ 10/31/2013 02:21:48 AM\"\n",
       " \"10/31/2013 01:53:44 AM ~ \"                      \n",
       " \"10/31/2013 01:46:52 AM ~ \"                      \n",
       " \"10/31/2013 01:46:40 AM ~ \"                      \n",
       " \"10/31/2013 01:44:19 AM ~ 10/31/2013 01:58:49 AM\"\n",
       " \"10/31/2013 01:44:14 AM ~ 10/31/2013 02:28:04 AM\"\n",
       " \"10/31/2013 01:34:41 AM ~ 10/31/2013 02:23:51 AM\"\n",
       " \"10/31/2013 01:25:12 AM ~ \"                      \n",
       " \"10/31/2013 01:24:14 AM ~ 10/31/2013 01:54:39 AM\"\n",
       " \"10/31/2013 01:20:57 AM ~ 10/31/2013 02:12:31 AM\"\n",
       " ⋮                                                \n",
       " \"10/04/2013 12:06:00 AM ~ \"                      \n",
       " \"10/04/2013 12:05:12 AM ~ 10/04/2013 01:08:29 AM\"\n",
       " \"10/04/2013 12:04:52 AM ~ 10/04/2013 03:01:04 AM\"\n",
       " \"10/04/2013 12:04:00 AM ~ \"                      \n",
       " \"10/04/2013 12:03:00 AM ~ 10/04/2013 02:14:57 AM\"\n",
       " \"10/04/2013 12:03:00 AM ~ 10/04/2013 12:03:00 AM\"\n",
       " \"10/04/2013 12:02:00 AM ~ 10/04/2013 01:10:00 AM\"\n",
       " \"10/04/2013 12:01:13 AM ~ 10/07/2013 04:07:16 PM\"\n",
       " \"10/04/2013 12:01:05 AM ~ 10/04/2013 02:13:50 AM\"\n",
       " \"10/04/2013 12:00:45 AM ~ 10/04/2013 01:25:01 AM\"\n",
       " \"10/04/2013 12:00:28 AM ~ 10/04/2013 04:17:32 AM\"\n",
       " \"10/04/2013 12:00:10 AM ~ 10/04/2013 01:20:52 AM\""
      ]
     },
     "execution_count": 31,
     "metadata": {},
     "output_type": "execute_result"
    }
   ],
   "source": [
    "replace_NA(x) = isna(x) ? \"\" : x \n",
    "complaints[:Date_Span] = map((x, y) -> replace_NA(x) * \" ~ \" * replace_NA(y), complaints[:Created_Date], complaints[:Closed_Date])"
   ]
  },
  {
   "cell_type": "code",
   "execution_count": 32,
   "metadata": {},
   "outputs": [
    {
     "name": "stdout",
     "output_type": "stream",
     "text": [
      "(111069, 53)\n",
      "(111069, 52)\n"
     ]
    }
   ],
   "source": [
    "println(size(complaints))\n",
    "delete!(complaints, :Date_Span)\n",
    "println(size(complaints))"
   ]
  },
  {
   "cell_type": "code",
   "execution_count": 33,
   "metadata": {},
   "outputs": [
    {
     "data": {
      "text/html": [
       "<table class=\"data-frame\"><thead><tr><th></th><th>Created_Date</th><th>Closed_Date</th></tr></thead><tbody><tr><th>1</th><td>10/31/2013 00:00:00 AM</td><td>10/31/2013 00:00:00 PM</td></tr><tr><th>2</th><td>10/31/2013 02:01:04 AM</td><td>10/31/2013 02:40:32 AM</td></tr><tr><th>3</th><td>10/31/2013 02:00:24 AM</td><td>10/31/2013 02:40:32 AM</td></tr></tbody></table>"
      ],
      "text/plain": [
       "3×2 DataFrames.DataFrame\n",
       "│ Row │ Created_Date             │ Closed_Date              │\n",
       "├─────┼──────────────────────────┼──────────────────────────┤\n",
       "│ 1   │ \"10/31/2013 00:00:00 AM\" │ \"10/31/2013 00:00:00 PM\" │\n",
       "│ 2   │ \"10/31/2013 02:01:04 AM\" │ \"10/31/2013 02:40:32 AM\" │\n",
       "│ 3   │ \"10/31/2013 02:00:24 AM\" │ \"10/31/2013 02:40:32 AM\" │"
      ]
     },
     "execution_count": 33,
     "metadata": {},
     "output_type": "execute_result"
    }
   ],
   "source": [
    "mini_df = deepcopy(complaints[1:3, [:Created_Date, :Closed_Date]])"
   ]
  },
  {
   "cell_type": "code",
   "execution_count": 34,
   "metadata": {},
   "outputs": [],
   "source": [
    "push!(mini_df, @data([\"11/16/2017 11:40:00 PM\", \"11/16/2017 11:41:00 PM\"]))"
   ]
  },
  {
   "cell_type": "code",
   "execution_count": 35,
   "metadata": {},
   "outputs": [
    {
     "data": {
      "text/html": [
       "<table class=\"data-frame\"><thead><tr><th></th><th>Created_Date</th><th>Closed_Date</th></tr></thead><tbody><tr><th>1</th><td>10/31/2013 00:00:00 AM</td><td>10/31/2013 00:00:00 PM</td></tr><tr><th>2</th><td>10/31/2013 02:01:04 AM</td><td>10/31/2013 02:40:32 AM</td></tr><tr><th>3</th><td>10/31/2013 02:00:24 AM</td><td>10/31/2013 02:40:32 AM</td></tr><tr><th>4</th><td>11/16/2017 11:40:00 PM</td><td>11/16/2017 11:41:00 PM</td></tr></tbody></table>"
      ],
      "text/plain": [
       "4×2 DataFrames.DataFrame\n",
       "│ Row │ Created_Date             │ Closed_Date              │\n",
       "├─────┼──────────────────────────┼──────────────────────────┤\n",
       "│ 1   │ \"10/31/2013 00:00:00 AM\" │ \"10/31/2013 00:00:00 PM\" │\n",
       "│ 2   │ \"10/31/2013 02:01:04 AM\" │ \"10/31/2013 02:40:32 AM\" │\n",
       "│ 3   │ \"10/31/2013 02:00:24 AM\" │ \"10/31/2013 02:40:32 AM\" │\n",
       "│ 4   │ \"11/16/2017 11:40:00 PM\" │ \"11/16/2017 11:41:00 PM\" │"
      ]
     },
     "execution_count": 35,
     "metadata": {},
     "output_type": "execute_result"
    }
   ],
   "source": [
    "mini_df"
   ]
  },
  {
   "cell_type": "code",
   "execution_count": 36,
   "metadata": {},
   "outputs": [
    {
     "data": {
      "text/html": [
       "<table class=\"data-frame\"><thead><tr><th></th><th>Created_Date</th><th>Closed_Date</th></tr></thead><tbody><tr><th>1</th><td>10/31/2013 02:01:04 AM</td><td>10/31/2013 02:40:32 AM</td></tr><tr><th>2</th><td>10/31/2013 02:00:24 AM</td><td>10/31/2013 02:40:32 AM</td></tr><tr><th>3</th><td>11/16/2017 11:40:00 PM</td><td>11/16/2017 11:41:00 PM</td></tr></tbody></table>"
      ],
      "text/plain": [
       "3×2 DataFrames.DataFrame\n",
       "│ Row │ Created_Date             │ Closed_Date              │\n",
       "├─────┼──────────────────────────┼──────────────────────────┤\n",
       "│ 1   │ \"10/31/2013 02:01:04 AM\" │ \"10/31/2013 02:40:32 AM\" │\n",
       "│ 2   │ \"10/31/2013 02:00:24 AM\" │ \"10/31/2013 02:40:32 AM\" │\n",
       "│ 3   │ \"11/16/2017 11:40:00 PM\" │ \"11/16/2017 11:41:00 PM\" │"
      ]
     },
     "execution_count": 36,
     "metadata": {},
     "output_type": "execute_result"
    }
   ],
   "source": [
    "deleterows!(mini_df, 1)"
   ]
  },
  {
   "cell_type": "markdown",
   "metadata": {},
   "source": [
    "## Concatenate DataFrames\n",
    "\n",
    "We can use `vcat` and `hcat` to concatenate two dataframes along rows and columns."
   ]
  },
  {
   "cell_type": "code",
   "execution_count": 37,
   "metadata": {},
   "outputs": [
    {
     "data": {
      "text/plain": [
       "(111069, 104)"
      ]
     },
     "execution_count": 37,
     "metadata": {},
     "output_type": "execute_result"
    }
   ],
   "source": [
    "size(hcat(complaints, complaints))"
   ]
  },
  {
   "cell_type": "code",
   "execution_count": 38,
   "metadata": {},
   "outputs": [
    {
     "data": {
      "text/plain": [
       "(222138, 52)"
      ]
     },
     "execution_count": 38,
     "metadata": {},
     "output_type": "execute_result"
    }
   ],
   "source": [
    "size(vcat(complaints, complaints))"
   ]
  }
 ],
 "metadata": {
  "kernelspec": {
   "display_name": "Julia 0.6.0",
   "language": "julia",
   "name": "julia-0.6"
  },
  "language_info": {
   "file_extension": ".jl",
   "mimetype": "application/julia",
   "name": "julia",
   "version": "0.6.0"
  }
 },
 "nbformat": 4,
 "nbformat_minor": 2
}
